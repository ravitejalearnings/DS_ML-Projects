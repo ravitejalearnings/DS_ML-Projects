{
 "cells": [
  {
   "cell_type": "markdown",
   "id": "d97d0243-b42a-47ea-af7d-ecd23316d17f",
   "metadata": {},
   "source": [
    "# Load Libraries"
   ]
  },
  {
   "cell_type": "code",
   "execution_count": 1385,
   "id": "97d8f8bb-4228-4356-b1e5-7dadeb197d1e",
   "metadata": {},
   "outputs": [],
   "source": [
    "import pandas as pd\n",
    "import numpy as np\n",
    "import matplotlib.pyplot as plt\n",
    "import seaborn as sns\n",
    "\n",
    "import warnings\n",
    "\n",
    "from sklearn.preprocessing import OneHotEncoder, StandardScaler, MinMaxScaler\n",
    "from sklearn.model_selection import train_test_split, GridSearchCV, RandomizedSearchCV, KFold, cross_val_score\n",
    "from sklearn.linear_model import LinearRegression, Lasso, Ridge, LassoCV\n",
    "from sklearn.metrics import mean_absolute_error, mean_squared_error, r2_score\n",
    "from category_encoders import TargetEncoder\n",
    "from sklearn.feature_selection import RFE\n",
    "from sklearn.metrics import mean_absolute_percentage_error\n",
    "\n",
    "from statsmodels.stats.outliers_influence import variance_inflation_factor\n",
    "from xgboost import XGBRegressor\n",
    "from sklearn.tree import DecisionTreeRegressor\n",
    "from sklearn.ensemble import RandomForestRegressor\n",
    "\n",
    "\n",
    "import joblib"
   ]
  },
  {
   "cell_type": "markdown",
   "id": "f2215973-902a-42d8-bf40-9f66bb1da1d4",
   "metadata": {},
   "source": [
    "# Load data"
   ]
  },
  {
   "cell_type": "code",
   "execution_count": 1707,
   "id": "493ea65b-28ed-4524-b3ce-f8d9a46364b8",
   "metadata": {},
   "outputs": [
    {
     "data": {
      "text/html": [
       "<div>\n",
       "<style scoped>\n",
       "    .dataframe tbody tr th:only-of-type {\n",
       "        vertical-align: middle;\n",
       "    }\n",
       "\n",
       "    .dataframe tbody tr th {\n",
       "        vertical-align: top;\n",
       "    }\n",
       "\n",
       "    .dataframe thead th {\n",
       "        text-align: right;\n",
       "    }\n",
       "</style>\n",
       "<table border=\"1\" class=\"dataframe\">\n",
       "  <thead>\n",
       "    <tr style=\"text-align: right;\">\n",
       "      <th></th>\n",
       "      <th>name</th>\n",
       "      <th>year</th>\n",
       "      <th>selling_price</th>\n",
       "      <th>km_driven</th>\n",
       "      <th>fuel</th>\n",
       "      <th>seller_type</th>\n",
       "      <th>transmission</th>\n",
       "      <th>owner</th>\n",
       "    </tr>\n",
       "  </thead>\n",
       "  <tbody>\n",
       "    <tr>\n",
       "      <th>0</th>\n",
       "      <td>Maruti 800 AC</td>\n",
       "      <td>2007</td>\n",
       "      <td>60000</td>\n",
       "      <td>70000</td>\n",
       "      <td>Petrol</td>\n",
       "      <td>Individual</td>\n",
       "      <td>Manual</td>\n",
       "      <td>First Owner</td>\n",
       "    </tr>\n",
       "    <tr>\n",
       "      <th>1</th>\n",
       "      <td>Maruti Wagon R LXI Minor</td>\n",
       "      <td>2007</td>\n",
       "      <td>135000</td>\n",
       "      <td>50000</td>\n",
       "      <td>Petrol</td>\n",
       "      <td>Individual</td>\n",
       "      <td>Manual</td>\n",
       "      <td>First Owner</td>\n",
       "    </tr>\n",
       "    <tr>\n",
       "      <th>2</th>\n",
       "      <td>Hyundai Verna 1.6 SX</td>\n",
       "      <td>2012</td>\n",
       "      <td>600000</td>\n",
       "      <td>100000</td>\n",
       "      <td>Diesel</td>\n",
       "      <td>Individual</td>\n",
       "      <td>Manual</td>\n",
       "      <td>First Owner</td>\n",
       "    </tr>\n",
       "    <tr>\n",
       "      <th>3</th>\n",
       "      <td>Datsun RediGO T Option</td>\n",
       "      <td>2017</td>\n",
       "      <td>250000</td>\n",
       "      <td>46000</td>\n",
       "      <td>Petrol</td>\n",
       "      <td>Individual</td>\n",
       "      <td>Manual</td>\n",
       "      <td>First Owner</td>\n",
       "    </tr>\n",
       "    <tr>\n",
       "      <th>4</th>\n",
       "      <td>Honda Amaze VX i-DTEC</td>\n",
       "      <td>2014</td>\n",
       "      <td>450000</td>\n",
       "      <td>141000</td>\n",
       "      <td>Diesel</td>\n",
       "      <td>Individual</td>\n",
       "      <td>Manual</td>\n",
       "      <td>Second Owner</td>\n",
       "    </tr>\n",
       "  </tbody>\n",
       "</table>\n",
       "</div>"
      ],
      "text/plain": [
       "                       name  year  selling_price  km_driven    fuel  \\\n",
       "0             Maruti 800 AC  2007          60000      70000  Petrol   \n",
       "1  Maruti Wagon R LXI Minor  2007         135000      50000  Petrol   \n",
       "2      Hyundai Verna 1.6 SX  2012         600000     100000  Diesel   \n",
       "3    Datsun RediGO T Option  2017         250000      46000  Petrol   \n",
       "4     Honda Amaze VX i-DTEC  2014         450000     141000  Diesel   \n",
       "\n",
       "  seller_type transmission         owner  \n",
       "0  Individual       Manual   First Owner  \n",
       "1  Individual       Manual   First Owner  \n",
       "2  Individual       Manual   First Owner  \n",
       "3  Individual       Manual   First Owner  \n",
       "4  Individual       Manual  Second Owner  "
      ]
     },
     "execution_count": 1707,
     "metadata": {},
     "output_type": "execute_result"
    }
   ],
   "source": [
    "file_path = (r\"C:\\Users\\aravit01\\OneDrive - Kearney\\1. RAVI TEJA\\12. My Learnings\\Portfolio Projects to Showcase\\Car Price Prediction - Regression\\CAR DETAILS FROM CAR DEKHO.csv\")\n",
    "df = pd.read_csv(file_path)\n",
    "df.head()"
   ]
  },
  {
   "cell_type": "code",
   "execution_count": 55,
   "id": "4657defe-122d-4fc9-8a7b-d35f597b6527",
   "metadata": {},
   "outputs": [
    {
     "data": {
      "text/plain": [
       "(4340, 8)"
      ]
     },
     "execution_count": 55,
     "metadata": {},
     "output_type": "execute_result"
    }
   ],
   "source": [
    "df.shape"
   ]
  },
  {
   "cell_type": "code",
   "execution_count": 56,
   "id": "ca05b5f1-bfd5-4066-a0c6-99ee3c3e3b37",
   "metadata": {},
   "outputs": [
    {
     "name": "stdout",
     "output_type": "stream",
     "text": [
      "<class 'pandas.core.frame.DataFrame'>\n",
      "RangeIndex: 4340 entries, 0 to 4339\n",
      "Data columns (total 8 columns):\n",
      " #   Column         Non-Null Count  Dtype \n",
      "---  ------         --------------  ----- \n",
      " 0   name           4340 non-null   object\n",
      " 1   year           4340 non-null   int64 \n",
      " 2   selling_price  4340 non-null   int64 \n",
      " 3   km_driven      4340 non-null   int64 \n",
      " 4   fuel           4340 non-null   object\n",
      " 5   seller_type    4340 non-null   object\n",
      " 6   transmission   4340 non-null   object\n",
      " 7   owner          4340 non-null   object\n",
      "dtypes: int64(3), object(5)\n",
      "memory usage: 271.4+ KB\n"
     ]
    }
   ],
   "source": [
    "df.info()"
   ]
  },
  {
   "cell_type": "code",
   "execution_count": 57,
   "id": "f0e74e38-8ec2-4977-a775-328e58524d4c",
   "metadata": {},
   "outputs": [
    {
     "data": {
      "text/plain": [
       "name             0\n",
       "year             0\n",
       "selling_price    0\n",
       "km_driven        0\n",
       "fuel             0\n",
       "seller_type      0\n",
       "transmission     0\n",
       "owner            0\n",
       "dtype: int64"
      ]
     },
     "execution_count": 57,
     "metadata": {},
     "output_type": "execute_result"
    }
   ],
   "source": [
    "df.isnull().sum()"
   ]
  },
  {
   "cell_type": "code",
   "execution_count": 58,
   "id": "89a64701-e968-453e-9ccf-27e480c91195",
   "metadata": {},
   "outputs": [
    {
     "data": {
      "text/html": [
       "<div>\n",
       "<style scoped>\n",
       "    .dataframe tbody tr th:only-of-type {\n",
       "        vertical-align: middle;\n",
       "    }\n",
       "\n",
       "    .dataframe tbody tr th {\n",
       "        vertical-align: top;\n",
       "    }\n",
       "\n",
       "    .dataframe thead th {\n",
       "        text-align: right;\n",
       "    }\n",
       "</style>\n",
       "<table border=\"1\" class=\"dataframe\">\n",
       "  <thead>\n",
       "    <tr style=\"text-align: right;\">\n",
       "      <th></th>\n",
       "      <th>year</th>\n",
       "      <th>selling_price</th>\n",
       "      <th>km_driven</th>\n",
       "    </tr>\n",
       "  </thead>\n",
       "  <tbody>\n",
       "    <tr>\n",
       "      <th>count</th>\n",
       "      <td>4340.000000</td>\n",
       "      <td>4.340000e+03</td>\n",
       "      <td>4340.000000</td>\n",
       "    </tr>\n",
       "    <tr>\n",
       "      <th>mean</th>\n",
       "      <td>2013.090783</td>\n",
       "      <td>5.041273e+05</td>\n",
       "      <td>66215.777419</td>\n",
       "    </tr>\n",
       "    <tr>\n",
       "      <th>std</th>\n",
       "      <td>4.215344</td>\n",
       "      <td>5.785487e+05</td>\n",
       "      <td>46644.102194</td>\n",
       "    </tr>\n",
       "    <tr>\n",
       "      <th>min</th>\n",
       "      <td>1992.000000</td>\n",
       "      <td>2.000000e+04</td>\n",
       "      <td>1.000000</td>\n",
       "    </tr>\n",
       "    <tr>\n",
       "      <th>25%</th>\n",
       "      <td>2011.000000</td>\n",
       "      <td>2.087498e+05</td>\n",
       "      <td>35000.000000</td>\n",
       "    </tr>\n",
       "    <tr>\n",
       "      <th>50%</th>\n",
       "      <td>2014.000000</td>\n",
       "      <td>3.500000e+05</td>\n",
       "      <td>60000.000000</td>\n",
       "    </tr>\n",
       "    <tr>\n",
       "      <th>75%</th>\n",
       "      <td>2016.000000</td>\n",
       "      <td>6.000000e+05</td>\n",
       "      <td>90000.000000</td>\n",
       "    </tr>\n",
       "    <tr>\n",
       "      <th>max</th>\n",
       "      <td>2020.000000</td>\n",
       "      <td>8.900000e+06</td>\n",
       "      <td>806599.000000</td>\n",
       "    </tr>\n",
       "  </tbody>\n",
       "</table>\n",
       "</div>"
      ],
      "text/plain": [
       "              year  selling_price      km_driven\n",
       "count  4340.000000   4.340000e+03    4340.000000\n",
       "mean   2013.090783   5.041273e+05   66215.777419\n",
       "std       4.215344   5.785487e+05   46644.102194\n",
       "min    1992.000000   2.000000e+04       1.000000\n",
       "25%    2011.000000   2.087498e+05   35000.000000\n",
       "50%    2014.000000   3.500000e+05   60000.000000\n",
       "75%    2016.000000   6.000000e+05   90000.000000\n",
       "max    2020.000000   8.900000e+06  806599.000000"
      ]
     },
     "execution_count": 58,
     "metadata": {},
     "output_type": "execute_result"
    }
   ],
   "source": [
    "df.describe()"
   ]
  },
  {
   "cell_type": "code",
   "execution_count": 59,
   "id": "4ab66bcd-3ffb-4054-af32-538ffc38fb34",
   "metadata": {},
   "outputs": [
    {
     "data": {
      "text/plain": [
       "763"
      ]
     },
     "execution_count": 59,
     "metadata": {},
     "output_type": "execute_result"
    }
   ],
   "source": [
    "df.duplicated().sum()"
   ]
  },
  {
   "cell_type": "code",
   "execution_count": 67,
   "id": "b443f276-3a90-4c8b-ae3a-f44c688f5ee0",
   "metadata": {},
   "outputs": [],
   "source": [
    "df.drop_duplicates(keep='first', inplace = True)"
   ]
  },
  {
   "cell_type": "code",
   "execution_count": 71,
   "id": "9f654b56-d376-4aa0-9559-af42aef1dfed",
   "metadata": {},
   "outputs": [
    {
     "data": {
      "text/plain": [
       "0"
      ]
     },
     "execution_count": 71,
     "metadata": {},
     "output_type": "execute_result"
    }
   ],
   "source": [
    "df.duplicated().sum()"
   ]
  },
  {
   "cell_type": "code",
   "execution_count": 72,
   "id": "04f9a557-58d6-43af-95b0-87b4ea334d20",
   "metadata": {},
   "outputs": [
    {
     "data": {
      "text/plain": [
       "Index(['name', 'year', 'selling_price', 'km_driven', 'fuel', 'seller_type',\n",
       "       'transmission', 'owner'],\n",
       "      dtype='object')"
      ]
     },
     "execution_count": 72,
     "metadata": {},
     "output_type": "execute_result"
    }
   ],
   "source": [
    "df.columns"
   ]
  },
  {
   "cell_type": "code",
   "execution_count": 73,
   "id": "654d96e6-3dd3-4b07-ac4a-313d208f221d",
   "metadata": {},
   "outputs": [],
   "source": [
    "cat_cols = df.select_dtypes(include='object').columns\n",
    "num_cols = df.select_dtypes(exclude='object').columns"
   ]
  },
  {
   "cell_type": "code",
   "execution_count": 74,
   "id": "8e6c8d57-5279-43cf-b115-feee8dcdb974",
   "metadata": {},
   "outputs": [
    {
     "data": {
      "text/plain": [
       "Index(['year', 'selling_price', 'km_driven'], dtype='object')"
      ]
     },
     "execution_count": 74,
     "metadata": {},
     "output_type": "execute_result"
    }
   ],
   "source": [
    "num_cols"
   ]
  },
  {
   "cell_type": "markdown",
   "id": "03787a24-46cd-4b32-90ff-b83ea50b77cb",
   "metadata": {},
   "source": [
    "observations:\n",
    "- we dont have null values\n",
    "- check for duplicates.\n",
    "- duplicate values are dropped by keeping first row\n",
    "- check any transformations needed for categorical features.\n",
    "- check any imputations needed for numerical features\n",
    "- target feature = selling_price\n",
    "- currently we are skipping EDA, visualization step for quick processing of model\n"
   ]
  },
  {
   "cell_type": "code",
   "execution_count": 433,
   "id": "6df140dc-ef8d-4050-8370-0774ad2050ed",
   "metadata": {},
   "outputs": [],
   "source": [
    "def get_iqr(df, col):\n",
    "    q1 = df[col].quantile(0.25)\n",
    "    q3 = df[col].quantile(0.75)\n",
    "    iqr = q3-q1\n",
    "    upper_bound = q3 + 1.5*iqr\n",
    "    lower_bound = q1 - 1.5*iqr\n",
    "    return (lower_bound, upper_bound)\n"
   ]
  },
  {
   "cell_type": "code",
   "execution_count": 435,
   "id": "71139f17-b176-4e92-b844-f43360c72e93",
   "metadata": {},
   "outputs": [
    {
     "data": {
      "text/plain": [
       "(2019.0, 2007.0)"
      ]
     },
     "execution_count": 435,
     "metadata": {},
     "output_type": "execute_result"
    }
   ],
   "source": [
    "lower_bound, upper_bound"
   ]
  },
  {
   "cell_type": "code",
   "execution_count": 440,
   "id": "1cc1366d-c072-4484-8aa4-c5a4129dc827",
   "metadata": {},
   "outputs": [
    {
     "data": {
      "text/plain": [
       "(2001.0, 2025.0)"
      ]
     },
     "execution_count": 440,
     "metadata": {},
     "output_type": "execute_result"
    }
   ],
   "source": [
    "get_iqr(df, 'year')"
   ]
  },
  {
   "cell_type": "code",
   "execution_count": 438,
   "id": "3731523e-b8f1-41bd-8505-58c9fccc9314",
   "metadata": {},
   "outputs": [
    {
     "data": {
      "text/plain": [
       "((37, 8), (0, 8))"
      ]
     },
     "execution_count": 438,
     "metadata": {},
     "output_type": "execute_result"
    }
   ],
   "source": [
    "df[df['year'] < get_iqr(df, 'year')[0]].shape, df[df['year'] > get_iqr(df, 'year')[1]].shape"
   ]
  },
  {
   "cell_type": "code",
   "execution_count": 441,
   "id": "6a4f8dec-8ba0-49df-9491-d20dab31c180",
   "metadata": {},
   "outputs": [
    {
     "data": {
      "text/plain": [
       "(-45000.0, 171000.0)"
      ]
     },
     "execution_count": 441,
     "metadata": {},
     "output_type": "execute_result"
    }
   ],
   "source": [
    "get_iqr(df, 'km_driven')"
   ]
  },
  {
   "cell_type": "code",
   "execution_count": 1180,
   "id": "105a8751-7524-4ea8-8218-08583b3085dc",
   "metadata": {},
   "outputs": [
    {
     "data": {
      "text/plain": [
       "(2002.0, 2026.0)"
      ]
     },
     "execution_count": 1180,
     "metadata": {},
     "output_type": "execute_result"
    }
   ],
   "source": [
    "get_iqr(df, 'year')"
   ]
  },
  {
   "cell_type": "code",
   "execution_count": 439,
   "id": "c1156c0d-2df7-483d-8d0f-9ef5647fad77",
   "metadata": {},
   "outputs": [
    {
     "data": {
      "text/plain": [
       "((0, 8), (106, 8))"
      ]
     },
     "execution_count": 439,
     "metadata": {},
     "output_type": "execute_result"
    }
   ],
   "source": [
    "df[df['km_driven'] < get_iqr(df, 'km_driven')[0]].shape, df[df['km_driven'] > get_iqr(df, 'km_driven')[1]].shape"
   ]
  },
  {
   "cell_type": "code",
   "execution_count": 464,
   "id": "d4c35219-1b39-4871-936a-061a22a68d9a",
   "metadata": {},
   "outputs": [
    {
     "data": {
      "text/plain": [
       "(53, 8)"
      ]
     },
     "execution_count": 464,
     "metadata": {},
     "output_type": "execute_result"
    }
   ],
   "source": [
    "df[df['km_driven'] > 200000].shape"
   ]
  },
  {
   "cell_type": "markdown",
   "id": "708193e9-0d4c-4280-a2b0-44548c3c09a8",
   "metadata": {},
   "source": [
    "observation:\n",
    "- based on bussiness discussion, we considered outliers with kn_driver > 200000 & km_driven < 1000"
   ]
  },
  {
   "cell_type": "code",
   "execution_count": 459,
   "id": "e394ec1f-e6dd-4764-a831-762f778b15a4",
   "metadata": {},
   "outputs": [
    {
     "data": {
      "text/html": [
       "<div>\n",
       "<style scoped>\n",
       "    .dataframe tbody tr th:only-of-type {\n",
       "        vertical-align: middle;\n",
       "    }\n",
       "\n",
       "    .dataframe tbody tr th {\n",
       "        vertical-align: top;\n",
       "    }\n",
       "\n",
       "    .dataframe thead th {\n",
       "        text-align: right;\n",
       "    }\n",
       "</style>\n",
       "<table border=\"1\" class=\"dataframe\">\n",
       "  <thead>\n",
       "    <tr style=\"text-align: right;\">\n",
       "      <th></th>\n",
       "      <th>name</th>\n",
       "      <th>year</th>\n",
       "      <th>selling_price</th>\n",
       "      <th>km_driven</th>\n",
       "      <th>fuel</th>\n",
       "      <th>seller_type</th>\n",
       "      <th>transmission</th>\n",
       "      <th>owner</th>\n",
       "    </tr>\n",
       "  </thead>\n",
       "  <tbody>\n",
       "    <tr>\n",
       "      <th>144</th>\n",
       "      <td>Hyundai EON Era Plus</td>\n",
       "      <td>2013</td>\n",
       "      <td>280000</td>\n",
       "      <td>3240</td>\n",
       "      <td>Petrol</td>\n",
       "      <td>Individual</td>\n",
       "      <td>Manual</td>\n",
       "      <td>Second Owner</td>\n",
       "    </tr>\n",
       "    <tr>\n",
       "      <th>552</th>\n",
       "      <td>Renault Duster 85PS Diesel RxL</td>\n",
       "      <td>2013</td>\n",
       "      <td>450000</td>\n",
       "      <td>1000</td>\n",
       "      <td>Diesel</td>\n",
       "      <td>Dealer</td>\n",
       "      <td>Manual</td>\n",
       "      <td>Second Owner</td>\n",
       "    </tr>\n",
       "    <tr>\n",
       "      <th>1312</th>\n",
       "      <td>Mahindra Quanto C6</td>\n",
       "      <td>2014</td>\n",
       "      <td>250000</td>\n",
       "      <td>1</td>\n",
       "      <td>Diesel</td>\n",
       "      <td>Individual</td>\n",
       "      <td>Manual</td>\n",
       "      <td>Second Owner</td>\n",
       "    </tr>\n",
       "    <tr>\n",
       "      <th>1579</th>\n",
       "      <td>Mahindra Jeep Classic</td>\n",
       "      <td>1999</td>\n",
       "      <td>170000</td>\n",
       "      <td>2020</td>\n",
       "      <td>Diesel</td>\n",
       "      <td>Individual</td>\n",
       "      <td>Manual</td>\n",
       "      <td>Second Owner</td>\n",
       "    </tr>\n",
       "    <tr>\n",
       "      <th>2485</th>\n",
       "      <td>Maruti Alto K10 VXI AGS</td>\n",
       "      <td>2015</td>\n",
       "      <td>281000</td>\n",
       "      <td>4432</td>\n",
       "      <td>Petrol</td>\n",
       "      <td>Dealer</td>\n",
       "      <td>Automatic</td>\n",
       "      <td>Second Owner</td>\n",
       "    </tr>\n",
       "    <tr>\n",
       "      <th>2667</th>\n",
       "      <td>Ford Ikon 1.3 Flair</td>\n",
       "      <td>2005</td>\n",
       "      <td>61000</td>\n",
       "      <td>4637</td>\n",
       "      <td>Petrol</td>\n",
       "      <td>Individual</td>\n",
       "      <td>Manual</td>\n",
       "      <td>Second Owner</td>\n",
       "    </tr>\n",
       "    <tr>\n",
       "      <th>3700</th>\n",
       "      <td>Datsun GO Plus T BSIV</td>\n",
       "      <td>2018</td>\n",
       "      <td>400000</td>\n",
       "      <td>4400</td>\n",
       "      <td>Petrol</td>\n",
       "      <td>Individual</td>\n",
       "      <td>Manual</td>\n",
       "      <td>Second Owner</td>\n",
       "    </tr>\n",
       "  </tbody>\n",
       "</table>\n",
       "</div>"
      ],
      "text/plain": [
       "                                name  year  selling_price  km_driven    fuel  \\\n",
       "144             Hyundai EON Era Plus  2013         280000       3240  Petrol   \n",
       "552   Renault Duster 85PS Diesel RxL  2013         450000       1000  Diesel   \n",
       "1312              Mahindra Quanto C6  2014         250000          1  Diesel   \n",
       "1579           Mahindra Jeep Classic  1999         170000       2020  Diesel   \n",
       "2485         Maruti Alto K10 VXI AGS  2015         281000       4432  Petrol   \n",
       "2667             Ford Ikon 1.3 Flair  2005          61000       4637  Petrol   \n",
       "3700           Datsun GO Plus T BSIV  2018         400000       4400  Petrol   \n",
       "\n",
       "     seller_type transmission         owner  \n",
       "144   Individual       Manual  Second Owner  \n",
       "552       Dealer       Manual  Second Owner  \n",
       "1312  Individual       Manual  Second Owner  \n",
       "1579  Individual       Manual  Second Owner  \n",
       "2485      Dealer    Automatic  Second Owner  \n",
       "2667  Individual       Manual  Second Owner  \n",
       "3700  Individual       Manual  Second Owner  "
      ]
     },
     "execution_count": 459,
     "metadata": {},
     "output_type": "execute_result"
    }
   ],
   "source": [
    "df[(df['km_driven'] < 5000) & (df['owner'] == 'Second Owner') ]"
   ]
  },
  {
   "cell_type": "code",
   "execution_count": 1183,
   "id": "fc81173d-eb95-4b3d-8e27-e3c9b276f538",
   "metadata": {},
   "outputs": [],
   "source": [
    "df = df[~(df['km_driven'] > 170000)]"
   ]
  },
  {
   "cell_type": "code",
   "execution_count": 1184,
   "id": "db0e8bbd-3153-45b0-86e0-c5599ddeec4a",
   "metadata": {},
   "outputs": [],
   "source": [
    "df = df[~(df['km_driven'] < 5000)]"
   ]
  },
  {
   "cell_type": "code",
   "execution_count": 1185,
   "id": "602be00e-4d78-4cb8-83f4-081fecbe010d",
   "metadata": {},
   "outputs": [],
   "source": [
    "df = df[~(df['year'] < 2000)]"
   ]
  },
  {
   "cell_type": "code",
   "execution_count": 1571,
   "id": "6bbb2058-68a6-4c21-9b9a-9dbb7942b37a",
   "metadata": {},
   "outputs": [
    {
     "data": {
      "text/plain": [
       "array(['First Owner', 'Second Owner', 'Fourth & Above Owner',\n",
       "       'Third Owner', 'Test Drive Car'], dtype=object)"
      ]
     },
     "execution_count": 1571,
     "metadata": {},
     "output_type": "execute_result"
    }
   ],
   "source": [
    "df['owner'].unique()"
   ]
  },
  {
   "cell_type": "code",
   "execution_count": 1572,
   "id": "d47a3d9d-318d-4ca9-abcf-0164ed1445bf",
   "metadata": {},
   "outputs": [],
   "source": [
    "owner_mapping = {\n",
    "    'First Owner' : 1,\n",
    "    'Second Owner' : 2,\n",
    "    'Third Owner' : 3,\n",
    "    'Fourth & Above Owner' : 4,\n",
    "    'Test Drive Car' : 5\n",
    "}"
   ]
  },
  {
   "cell_type": "code",
   "execution_count": 1579,
   "id": "375b8fb2-09ac-4829-8722-46a9594a0de3",
   "metadata": {},
   "outputs": [],
   "source": [
    "df['owner'] = df['owner'].map(owner_mapping)"
   ]
  },
  {
   "cell_type": "code",
   "execution_count": 1580,
   "id": "41253af8-8c36-4e71-b68d-2c3f2d11b37f",
   "metadata": {},
   "outputs": [
    {
     "data": {
      "text/plain": [
       "(4067, 8)"
      ]
     },
     "execution_count": 1580,
     "metadata": {},
     "output_type": "execute_result"
    }
   ],
   "source": [
    "df.shape"
   ]
  },
  {
   "cell_type": "markdown",
   "id": "7df33281-c34e-4f3e-b323-4b52536ad187",
   "metadata": {},
   "source": [
    "# data split"
   ]
  },
  {
   "cell_type": "code",
   "execution_count": 1581,
   "id": "1b9b4b78-c9cc-40e9-81cf-87e825978d2a",
   "metadata": {},
   "outputs": [],
   "source": [
    "X = df.drop('selling_price', axis = 1)\n",
    "y = df['selling_price']"
   ]
  },
  {
   "cell_type": "code",
   "execution_count": 1582,
   "id": "bd2202b0-4eca-44dd-b13d-3806aa06cee7",
   "metadata": {},
   "outputs": [],
   "source": [
    "X_train, X_test, y_train, y_test = train_test_split(X, y, test_size=0.2, random_state=42)"
   ]
  },
  {
   "cell_type": "code",
   "execution_count": 1583,
   "id": "6aa8b755-f804-4ffc-b868-8e2ae65899e8",
   "metadata": {},
   "outputs": [
    {
     "data": {
      "text/plain": [
       "((3253, 7), (814,), (814, 7), (3253,))"
      ]
     },
     "execution_count": 1583,
     "metadata": {},
     "output_type": "execute_result"
    }
   ],
   "source": [
    "X_train.shape, y_test.shape, X_test.shape, y_train.shape"
   ]
  },
  {
   "cell_type": "code",
   "execution_count": 1191,
   "id": "b4c0e87a-d9e4-4120-8a2b-8886de64415c",
   "metadata": {},
   "outputs": [],
   "source": [
    "# X_train = X_train[~(X_train['km_driven'] > 200000) | (X_train['km_driven'] < 1000) ]\n",
    "# X_test = X_test[~(X_test['km_driven'] > 200000) | (X_test['km_driven'] < 1000) ]"
   ]
  },
  {
   "cell_type": "code",
   "execution_count": 1192,
   "id": "c9cc6dd5-56af-42df-8176-bc1ede7daaa7",
   "metadata": {},
   "outputs": [],
   "source": [
    "# train_com_index = X_train.index.intersection(y_train.index)\n",
    "# test_com_index = X_test.index.intersection(y_test.index)"
   ]
  },
  {
   "cell_type": "code",
   "execution_count": 1193,
   "id": "abf16772-5b47-4e6a-b7c4-b0452d206852",
   "metadata": {},
   "outputs": [],
   "source": [
    "# y_train = y_train.loc[train_com_index]\n",
    "# y_test = y_test.loc[test_com_index]"
   ]
  },
  {
   "cell_type": "code",
   "execution_count": null,
   "id": "1cb6b072-04e2-444b-ab33-3b2930442b4d",
   "metadata": {},
   "outputs": [],
   "source": []
  },
  {
   "cell_type": "code",
   "execution_count": 1194,
   "id": "48cb49cd-f7fd-473f-bebf-5b20480cdd7b",
   "metadata": {},
   "outputs": [],
   "source": [
    "# X_train.shape, y_test.shape, X_test.shape, y_train.shape"
   ]
  },
  {
   "cell_type": "code",
   "execution_count": 1584,
   "id": "216a916f-c6cb-4693-98d2-0fb125a3b5c5",
   "metadata": {},
   "outputs": [
    {
     "data": {
      "text/html": [
       "<div>\n",
       "<style scoped>\n",
       "    .dataframe tbody tr th:only-of-type {\n",
       "        vertical-align: middle;\n",
       "    }\n",
       "\n",
       "    .dataframe tbody tr th {\n",
       "        vertical-align: top;\n",
       "    }\n",
       "\n",
       "    .dataframe thead th {\n",
       "        text-align: right;\n",
       "    }\n",
       "</style>\n",
       "<table border=\"1\" class=\"dataframe\">\n",
       "  <thead>\n",
       "    <tr style=\"text-align: right;\">\n",
       "      <th></th>\n",
       "      <th>name</th>\n",
       "      <th>year</th>\n",
       "      <th>km_driven</th>\n",
       "      <th>fuel</th>\n",
       "      <th>seller_type</th>\n",
       "      <th>transmission</th>\n",
       "      <th>owner</th>\n",
       "    </tr>\n",
       "  </thead>\n",
       "  <tbody>\n",
       "    <tr>\n",
       "      <th>3691</th>\n",
       "      <td>Ford Ecosport 1.5 DV5 MT Titanium</td>\n",
       "      <td>2014</td>\n",
       "      <td>63356</td>\n",
       "      <td>Diesel</td>\n",
       "      <td>Dealer</td>\n",
       "      <td>Manual</td>\n",
       "      <td>2</td>\n",
       "    </tr>\n",
       "    <tr>\n",
       "      <th>1717</th>\n",
       "      <td>Ford Figo 1.5D Titanium Opt MT</td>\n",
       "      <td>2015</td>\n",
       "      <td>52328</td>\n",
       "      <td>Diesel</td>\n",
       "      <td>Dealer</td>\n",
       "      <td>Manual</td>\n",
       "      <td>1</td>\n",
       "    </tr>\n",
       "    <tr>\n",
       "      <th>2006</th>\n",
       "      <td>Maruti Alto LXi</td>\n",
       "      <td>2008</td>\n",
       "      <td>70000</td>\n",
       "      <td>Petrol</td>\n",
       "      <td>Individual</td>\n",
       "      <td>Manual</td>\n",
       "      <td>1</td>\n",
       "    </tr>\n",
       "    <tr>\n",
       "      <th>3594</th>\n",
       "      <td>Mahindra Scorpio VLX 2WD AIRBAG BSIV</td>\n",
       "      <td>2014</td>\n",
       "      <td>100000</td>\n",
       "      <td>Diesel</td>\n",
       "      <td>Individual</td>\n",
       "      <td>Manual</td>\n",
       "      <td>2</td>\n",
       "    </tr>\n",
       "    <tr>\n",
       "      <th>470</th>\n",
       "      <td>Hyundai i10 Era 1.1</td>\n",
       "      <td>2009</td>\n",
       "      <td>120000</td>\n",
       "      <td>Petrol</td>\n",
       "      <td>Individual</td>\n",
       "      <td>Manual</td>\n",
       "      <td>2</td>\n",
       "    </tr>\n",
       "    <tr>\n",
       "      <th>...</th>\n",
       "      <td>...</td>\n",
       "      <td>...</td>\n",
       "      <td>...</td>\n",
       "      <td>...</td>\n",
       "      <td>...</td>\n",
       "      <td>...</td>\n",
       "      <td>...</td>\n",
       "    </tr>\n",
       "    <tr>\n",
       "      <th>1200</th>\n",
       "      <td>Maruti Ignis 1.2 AMT Delta BSIV</td>\n",
       "      <td>2017</td>\n",
       "      <td>15000</td>\n",
       "      <td>Petrol</td>\n",
       "      <td>Individual</td>\n",
       "      <td>Automatic</td>\n",
       "      <td>1</td>\n",
       "    </tr>\n",
       "    <tr>\n",
       "      <th>1373</th>\n",
       "      <td>Renault KWID RXL</td>\n",
       "      <td>2016</td>\n",
       "      <td>38000</td>\n",
       "      <td>Petrol</td>\n",
       "      <td>Individual</td>\n",
       "      <td>Manual</td>\n",
       "      <td>1</td>\n",
       "    </tr>\n",
       "    <tr>\n",
       "      <th>915</th>\n",
       "      <td>Maruti Swift Dzire VDI</td>\n",
       "      <td>2017</td>\n",
       "      <td>46507</td>\n",
       "      <td>Diesel</td>\n",
       "      <td>Trustmark Dealer</td>\n",
       "      <td>Manual</td>\n",
       "      <td>1</td>\n",
       "    </tr>\n",
       "    <tr>\n",
       "      <th>3750</th>\n",
       "      <td>Ford Figo Diesel ZXI</td>\n",
       "      <td>2014</td>\n",
       "      <td>90000</td>\n",
       "      <td>Diesel</td>\n",
       "      <td>Individual</td>\n",
       "      <td>Manual</td>\n",
       "      <td>1</td>\n",
       "    </tr>\n",
       "    <tr>\n",
       "      <th>3383</th>\n",
       "      <td>Datsun GO T BSIV</td>\n",
       "      <td>2014</td>\n",
       "      <td>58000</td>\n",
       "      <td>Petrol</td>\n",
       "      <td>Individual</td>\n",
       "      <td>Manual</td>\n",
       "      <td>1</td>\n",
       "    </tr>\n",
       "  </tbody>\n",
       "</table>\n",
       "<p>3253 rows × 7 columns</p>\n",
       "</div>"
      ],
      "text/plain": [
       "                                      name  year  km_driven    fuel  \\\n",
       "3691     Ford Ecosport 1.5 DV5 MT Titanium  2014      63356  Diesel   \n",
       "1717        Ford Figo 1.5D Titanium Opt MT  2015      52328  Diesel   \n",
       "2006                       Maruti Alto LXi  2008      70000  Petrol   \n",
       "3594  Mahindra Scorpio VLX 2WD AIRBAG BSIV  2014     100000  Diesel   \n",
       "470                    Hyundai i10 Era 1.1  2009     120000  Petrol   \n",
       "...                                    ...   ...        ...     ...   \n",
       "1200       Maruti Ignis 1.2 AMT Delta BSIV  2017      15000  Petrol   \n",
       "1373                      Renault KWID RXL  2016      38000  Petrol   \n",
       "915                 Maruti Swift Dzire VDI  2017      46507  Diesel   \n",
       "3750                  Ford Figo Diesel ZXI  2014      90000  Diesel   \n",
       "3383                      Datsun GO T BSIV  2014      58000  Petrol   \n",
       "\n",
       "           seller_type transmission  owner  \n",
       "3691            Dealer       Manual      2  \n",
       "1717            Dealer       Manual      1  \n",
       "2006        Individual       Manual      1  \n",
       "3594        Individual       Manual      2  \n",
       "470         Individual       Manual      2  \n",
       "...                ...          ...    ...  \n",
       "1200        Individual    Automatic      1  \n",
       "1373        Individual       Manual      1  \n",
       "915   Trustmark Dealer       Manual      1  \n",
       "3750        Individual       Manual      1  \n",
       "3383        Individual       Manual      1  \n",
       "\n",
       "[3253 rows x 7 columns]"
      ]
     },
     "execution_count": 1584,
     "metadata": {},
     "output_type": "execute_result"
    }
   ],
   "source": [
    "X_train"
   ]
  },
  {
   "cell_type": "code",
   "execution_count": 1585,
   "id": "62f0424c-1248-45d2-9fd9-95eeae8f7a02",
   "metadata": {},
   "outputs": [
    {
     "data": {
      "text/plain": [
       "Index(['name', 'fuel', 'seller_type', 'transmission'], dtype='object')"
      ]
     },
     "execution_count": 1585,
     "metadata": {},
     "output_type": "execute_result"
    }
   ],
   "source": [
    "X_train.select_dtypes(include='object').columns"
   ]
  },
  {
   "cell_type": "code",
   "execution_count": 1586,
   "id": "797bfaa0-171a-414b-b93d-0f38c1c658c4",
   "metadata": {},
   "outputs": [],
   "source": [
    "X_train['car_name'] = X_train['name'].str.split(\" \", expand=True)[0]\n",
    "X_test['car_name'] = X_test['name'].str.split(\" \", expand=True)[0]"
   ]
  },
  {
   "cell_type": "code",
   "execution_count": 1587,
   "id": "afdbbbdf-6398-4487-805f-458faf057435",
   "metadata": {},
   "outputs": [],
   "source": [
    "X_train['model'] = X_train['name'].str.split(\" \", expand=True).iloc[:,1:].fillna(\"\").apply(lambda x: \" \".join(x).strip(), axis = 1)\n",
    "X_test['model'] = X_test['name'].str.split(\" \", expand=True).iloc[:,1:].fillna(\"\").apply(lambda x: \" \".join(x).strip(), axis = 1)"
   ]
  },
  {
   "cell_type": "code",
   "execution_count": 1588,
   "id": "da2760f2-48ac-4e6f-8bc9-3568f906d441",
   "metadata": {},
   "outputs": [],
   "source": [
    "X_train.drop(columns='name', axis=1, inplace=True )\n",
    "X_test.drop(columns='name', axis=1, inplace=True )"
   ]
  },
  {
   "cell_type": "code",
   "execution_count": 1589,
   "id": "b6a7fc49-924d-4aa8-bbbf-b19018f9b026",
   "metadata": {},
   "outputs": [
    {
     "name": "stdout",
     "output_type": "stream",
     "text": [
      "fuel: ['Diesel' 'Petrol' 'LPG' 'CNG' 'Electric']\n",
      "seller_type: ['Dealer' 'Individual' 'Trustmark Dealer']\n",
      "transmission: ['Manual' 'Automatic']\n",
      "car_name: ['Ford' 'Maruti' 'Mahindra' 'Hyundai' 'Renault' 'Volkswagen' 'Chevrolet'\n",
      " 'Skoda' 'Tata' 'Nissan' 'Honda' 'Land' 'Mercedes-Benz' 'Fiat' 'Toyota'\n",
      " 'Datsun' 'Audi' 'BMW' 'Jaguar' 'Ambassador' 'Mitsubishi' 'Force' 'Volvo'\n",
      " 'MG' 'Jeep' 'Isuzu' 'Daewoo' 'OpelCorsa' 'Kia']\n",
      "model: ['Ecosport 1.5 DV5 MT Titanium' 'Figo 1.5D Titanium Opt MT' 'Alto LXi' ...\n",
      " 'Swift VXI with ABS' 'Tavera Neo 2 LT L 9 Str' 'Ignis 1.2 AMT Delta BSIV']\n"
     ]
    }
   ],
   "source": [
    "for i in X_train.select_dtypes(include='object'):\n",
    "    print(f\"{i}: {X_train[i].unique()}\")"
   ]
  },
  {
   "cell_type": "code",
   "execution_count": 1590,
   "id": "43726cf5-92a0-4785-92de-9db6fd9f6aa3",
   "metadata": {},
   "outputs": [
    {
     "name": "stdout",
     "output_type": "stream",
     "text": [
      "fuel: 5\n",
      "seller_type: 3\n",
      "transmission: 2\n",
      "car_name: 29\n",
      "model: 1262\n"
     ]
    }
   ],
   "source": [
    "for i in X_train.select_dtypes(include='object'):\n",
    "    print(f\"{i}: {X_train[i].nunique()}\")"
   ]
  },
  {
   "cell_type": "code",
   "execution_count": 1591,
   "id": "0a0ba833-432c-4751-aa4c-6a3f742657bb",
   "metadata": {},
   "outputs": [
    {
     "name": "stdout",
     "output_type": "stream",
     "text": [
      "year: 0\n",
      "km_driven: 0\n",
      "owner: 0\n"
     ]
    }
   ],
   "source": [
    "for i in X_train.select_dtypes(exclude='object'):\n",
    "    print(f\"{i}: {X_train[i].isnull().sum()}\")"
   ]
  },
  {
   "cell_type": "code",
   "execution_count": 1592,
   "id": "f7812e64-59a4-4eea-a700-bd1c5b783fe1",
   "metadata": {},
   "outputs": [
    {
     "data": {
      "text/plain": [
       "((3253, 8), (814,), (3253,), (814, 8))"
      ]
     },
     "execution_count": 1592,
     "metadata": {},
     "output_type": "execute_result"
    }
   ],
   "source": [
    "X_train.shape, y_test.shape, y_train.shape, X_test.shape"
   ]
  },
  {
   "cell_type": "code",
   "execution_count": 1593,
   "id": "1001ad8e-d6ff-4855-95b4-3bae42f93753",
   "metadata": {},
   "outputs": [
    {
     "data": {
      "text/html": [
       "<div>\n",
       "<style scoped>\n",
       "    .dataframe tbody tr th:only-of-type {\n",
       "        vertical-align: middle;\n",
       "    }\n",
       "\n",
       "    .dataframe tbody tr th {\n",
       "        vertical-align: top;\n",
       "    }\n",
       "\n",
       "    .dataframe thead th {\n",
       "        text-align: right;\n",
       "    }\n",
       "</style>\n",
       "<table border=\"1\" class=\"dataframe\">\n",
       "  <thead>\n",
       "    <tr style=\"text-align: right;\">\n",
       "      <th></th>\n",
       "      <th>year</th>\n",
       "      <th>km_driven</th>\n",
       "      <th>fuel</th>\n",
       "      <th>seller_type</th>\n",
       "      <th>transmission</th>\n",
       "      <th>owner</th>\n",
       "      <th>car_name</th>\n",
       "      <th>model</th>\n",
       "    </tr>\n",
       "  </thead>\n",
       "  <tbody>\n",
       "    <tr>\n",
       "      <th>3691</th>\n",
       "      <td>2014</td>\n",
       "      <td>63356</td>\n",
       "      <td>Diesel</td>\n",
       "      <td>Dealer</td>\n",
       "      <td>Manual</td>\n",
       "      <td>2</td>\n",
       "      <td>Ford</td>\n",
       "      <td>Ecosport 1.5 DV5 MT Titanium</td>\n",
       "    </tr>\n",
       "    <tr>\n",
       "      <th>1717</th>\n",
       "      <td>2015</td>\n",
       "      <td>52328</td>\n",
       "      <td>Diesel</td>\n",
       "      <td>Dealer</td>\n",
       "      <td>Manual</td>\n",
       "      <td>1</td>\n",
       "      <td>Ford</td>\n",
       "      <td>Figo 1.5D Titanium Opt MT</td>\n",
       "    </tr>\n",
       "    <tr>\n",
       "      <th>2006</th>\n",
       "      <td>2008</td>\n",
       "      <td>70000</td>\n",
       "      <td>Petrol</td>\n",
       "      <td>Individual</td>\n",
       "      <td>Manual</td>\n",
       "      <td>1</td>\n",
       "      <td>Maruti</td>\n",
       "      <td>Alto LXi</td>\n",
       "    </tr>\n",
       "  </tbody>\n",
       "</table>\n",
       "</div>"
      ],
      "text/plain": [
       "      year  km_driven    fuel seller_type transmission  owner car_name  \\\n",
       "3691  2014      63356  Diesel      Dealer       Manual      2     Ford   \n",
       "1717  2015      52328  Diesel      Dealer       Manual      1     Ford   \n",
       "2006  2008      70000  Petrol  Individual       Manual      1   Maruti   \n",
       "\n",
       "                             model  \n",
       "3691  Ecosport 1.5 DV5 MT Titanium  \n",
       "1717     Figo 1.5D Titanium Opt MT  \n",
       "2006                      Alto LXi  "
      ]
     },
     "execution_count": 1593,
     "metadata": {},
     "output_type": "execute_result"
    }
   ],
   "source": [
    "X_train.head(3)"
   ]
  },
  {
   "cell_type": "markdown",
   "id": "4271f97a-a3db-4d1f-8e3a-0aa3c80c8316",
   "metadata": {},
   "source": [
    "## One Hot Encoding for low cardinality features"
   ]
  },
  {
   "cell_type": "code",
   "execution_count": 1594,
   "id": "5deebd67-223e-4c8b-a1cb-47bcdf015d46",
   "metadata": {},
   "outputs": [],
   "source": [
    "cols_to_ohe = ['fuel','seller_type','transmission']\n",
    "\n",
    "X_train_ohe = pd.get_dummies(data = X_train, columns=cols_to_ohe, drop_first= True, dtype='int8')\n",
    "\n",
    "X_test_ohe = pd.get_dummies(data=X_test, columns=cols_to_ohe, drop_first=True, dtype='int8')\n",
    "X_test_ohe = X_test_ohe.reindex(columns=X_train_ohe.columns, fill_value=0)\n"
   ]
  },
  {
   "cell_type": "code",
   "execution_count": 1595,
   "id": "4edc7ce5-70ef-4ab1-9da7-62c7b6fe9d5c",
   "metadata": {},
   "outputs": [
    {
     "data": {
      "text/html": [
       "<div>\n",
       "<style scoped>\n",
       "    .dataframe tbody tr th:only-of-type {\n",
       "        vertical-align: middle;\n",
       "    }\n",
       "\n",
       "    .dataframe tbody tr th {\n",
       "        vertical-align: top;\n",
       "    }\n",
       "\n",
       "    .dataframe thead th {\n",
       "        text-align: right;\n",
       "    }\n",
       "</style>\n",
       "<table border=\"1\" class=\"dataframe\">\n",
       "  <thead>\n",
       "    <tr style=\"text-align: right;\">\n",
       "      <th></th>\n",
       "      <th>year</th>\n",
       "      <th>km_driven</th>\n",
       "      <th>owner</th>\n",
       "      <th>car_name</th>\n",
       "      <th>model</th>\n",
       "      <th>fuel_Diesel</th>\n",
       "      <th>fuel_Electric</th>\n",
       "      <th>fuel_LPG</th>\n",
       "      <th>fuel_Petrol</th>\n",
       "      <th>seller_type_Individual</th>\n",
       "      <th>seller_type_Trustmark Dealer</th>\n",
       "      <th>transmission_Manual</th>\n",
       "    </tr>\n",
       "  </thead>\n",
       "  <tbody>\n",
       "    <tr>\n",
       "      <th>3691</th>\n",
       "      <td>2014</td>\n",
       "      <td>63356</td>\n",
       "      <td>2</td>\n",
       "      <td>Ford</td>\n",
       "      <td>Ecosport 1.5 DV5 MT Titanium</td>\n",
       "      <td>1</td>\n",
       "      <td>0</td>\n",
       "      <td>0</td>\n",
       "      <td>0</td>\n",
       "      <td>0</td>\n",
       "      <td>0</td>\n",
       "      <td>1</td>\n",
       "    </tr>\n",
       "    <tr>\n",
       "      <th>1717</th>\n",
       "      <td>2015</td>\n",
       "      <td>52328</td>\n",
       "      <td>1</td>\n",
       "      <td>Ford</td>\n",
       "      <td>Figo 1.5D Titanium Opt MT</td>\n",
       "      <td>1</td>\n",
       "      <td>0</td>\n",
       "      <td>0</td>\n",
       "      <td>0</td>\n",
       "      <td>0</td>\n",
       "      <td>0</td>\n",
       "      <td>1</td>\n",
       "    </tr>\n",
       "    <tr>\n",
       "      <th>2006</th>\n",
       "      <td>2008</td>\n",
       "      <td>70000</td>\n",
       "      <td>1</td>\n",
       "      <td>Maruti</td>\n",
       "      <td>Alto LXi</td>\n",
       "      <td>0</td>\n",
       "      <td>0</td>\n",
       "      <td>0</td>\n",
       "      <td>1</td>\n",
       "      <td>1</td>\n",
       "      <td>0</td>\n",
       "      <td>1</td>\n",
       "    </tr>\n",
       "  </tbody>\n",
       "</table>\n",
       "</div>"
      ],
      "text/plain": [
       "      year  km_driven  owner car_name                         model  \\\n",
       "3691  2014      63356      2     Ford  Ecosport 1.5 DV5 MT Titanium   \n",
       "1717  2015      52328      1     Ford     Figo 1.5D Titanium Opt MT   \n",
       "2006  2008      70000      1   Maruti                      Alto LXi   \n",
       "\n",
       "      fuel_Diesel  fuel_Electric  fuel_LPG  fuel_Petrol  \\\n",
       "3691            1              0         0            0   \n",
       "1717            1              0         0            0   \n",
       "2006            0              0         0            1   \n",
       "\n",
       "      seller_type_Individual  seller_type_Trustmark Dealer  \\\n",
       "3691                       0                             0   \n",
       "1717                       0                             0   \n",
       "2006                       1                             0   \n",
       "\n",
       "      transmission_Manual  \n",
       "3691                    1  \n",
       "1717                    1  \n",
       "2006                    1  "
      ]
     },
     "execution_count": 1595,
     "metadata": {},
     "output_type": "execute_result"
    }
   ],
   "source": [
    "X_train_ohe.head(3)"
   ]
  },
  {
   "cell_type": "code",
   "execution_count": 1596,
   "id": "0287d9e2-f9ab-4388-8e85-7bbf506ccf26",
   "metadata": {
    "scrolled": true
   },
   "outputs": [
    {
     "data": {
      "text/html": [
       "<div>\n",
       "<style scoped>\n",
       "    .dataframe tbody tr th:only-of-type {\n",
       "        vertical-align: middle;\n",
       "    }\n",
       "\n",
       "    .dataframe tbody tr th {\n",
       "        vertical-align: top;\n",
       "    }\n",
       "\n",
       "    .dataframe thead th {\n",
       "        text-align: right;\n",
       "    }\n",
       "</style>\n",
       "<table border=\"1\" class=\"dataframe\">\n",
       "  <thead>\n",
       "    <tr style=\"text-align: right;\">\n",
       "      <th></th>\n",
       "      <th>year</th>\n",
       "      <th>km_driven</th>\n",
       "      <th>owner</th>\n",
       "      <th>car_name</th>\n",
       "      <th>model</th>\n",
       "      <th>fuel_Diesel</th>\n",
       "      <th>fuel_Electric</th>\n",
       "      <th>fuel_LPG</th>\n",
       "      <th>fuel_Petrol</th>\n",
       "      <th>seller_type_Individual</th>\n",
       "      <th>seller_type_Trustmark Dealer</th>\n",
       "      <th>transmission_Manual</th>\n",
       "    </tr>\n",
       "  </thead>\n",
       "  <tbody>\n",
       "    <tr>\n",
       "      <th>3286</th>\n",
       "      <td>2015</td>\n",
       "      <td>110000</td>\n",
       "      <td>2</td>\n",
       "      <td>Mahindra</td>\n",
       "      <td>XUV500 W8 2WD</td>\n",
       "      <td>1</td>\n",
       "      <td>0</td>\n",
       "      <td>0</td>\n",
       "      <td>0</td>\n",
       "      <td>1</td>\n",
       "      <td>0</td>\n",
       "      <td>1</td>\n",
       "    </tr>\n",
       "    <tr>\n",
       "      <th>1611</th>\n",
       "      <td>2005</td>\n",
       "      <td>118400</td>\n",
       "      <td>1</td>\n",
       "      <td>Maruti</td>\n",
       "      <td>Swift 1.3 VXi</td>\n",
       "      <td>0</td>\n",
       "      <td>0</td>\n",
       "      <td>0</td>\n",
       "      <td>1</td>\n",
       "      <td>1</td>\n",
       "      <td>0</td>\n",
       "      <td>1</td>\n",
       "    </tr>\n",
       "    <tr>\n",
       "      <th>3730</th>\n",
       "      <td>2018</td>\n",
       "      <td>35000</td>\n",
       "      <td>1</td>\n",
       "      <td>Hyundai</td>\n",
       "      <td>Grand i10 1.2 Kappa Sportz AT</td>\n",
       "      <td>0</td>\n",
       "      <td>0</td>\n",
       "      <td>0</td>\n",
       "      <td>1</td>\n",
       "      <td>1</td>\n",
       "      <td>0</td>\n",
       "      <td>0</td>\n",
       "    </tr>\n",
       "  </tbody>\n",
       "</table>\n",
       "</div>"
      ],
      "text/plain": [
       "      year  km_driven  owner  car_name                          model  \\\n",
       "3286  2015     110000      2  Mahindra                  XUV500 W8 2WD   \n",
       "1611  2005     118400      1    Maruti                  Swift 1.3 VXi   \n",
       "3730  2018      35000      1   Hyundai  Grand i10 1.2 Kappa Sportz AT   \n",
       "\n",
       "      fuel_Diesel  fuel_Electric  fuel_LPG  fuel_Petrol  \\\n",
       "3286            1              0         0            0   \n",
       "1611            0              0         0            1   \n",
       "3730            0              0         0            1   \n",
       "\n",
       "      seller_type_Individual  seller_type_Trustmark Dealer  \\\n",
       "3286                       1                             0   \n",
       "1611                       1                             0   \n",
       "3730                       1                             0   \n",
       "\n",
       "      transmission_Manual  \n",
       "3286                    1  \n",
       "1611                    1  \n",
       "3730                    0  "
      ]
     },
     "execution_count": 1596,
     "metadata": {},
     "output_type": "execute_result"
    }
   ],
   "source": [
    "X_test_ohe.head(3)"
   ]
  },
  {
   "cell_type": "markdown",
   "id": "d70ad119-fa9e-4e49-970f-0f124e690224",
   "metadata": {},
   "source": [
    "## Target encoding for high cardinality features"
   ]
  },
  {
   "cell_type": "code",
   "execution_count": 1597,
   "id": "20505606-014b-43cc-956a-f318b2d67f76",
   "metadata": {},
   "outputs": [],
   "source": [
    "cols_target_encode = ['car_name','model']\n",
    "\n",
    "encoder = TargetEncoder(smoothing=0.3)\n",
    "encoder.fit(X_train_ohe[cols_target_encode], y_train)\n",
    "\n",
    "X_train_ohe[cols_target_encode] = encoder.transform(X_train_ohe[cols_target_encode])\n",
    "X_test_ohe[cols_target_encode] = encoder.transform(X_test_ohe[cols_target_encode])"
   ]
  },
  {
   "cell_type": "code",
   "execution_count": 1598,
   "id": "7501a62e-ad2f-45b3-8f62-2b55da206b6e",
   "metadata": {},
   "outputs": [
    {
     "data": {
      "text/plain": [
       "((3253, 12), (814, 12))"
      ]
     },
     "execution_count": 1598,
     "metadata": {},
     "output_type": "execute_result"
    }
   ],
   "source": [
    "X_train_ohe.shape, X_test_ohe.shape"
   ]
  },
  {
   "cell_type": "code",
   "execution_count": 1600,
   "id": "9df0e807-a762-40dd-bfdf-20ffc47f5643",
   "metadata": {
    "scrolled": true
   },
   "outputs": [
    {
     "data": {
      "text/html": [
       "<div>\n",
       "<style scoped>\n",
       "    .dataframe tbody tr th:only-of-type {\n",
       "        vertical-align: middle;\n",
       "    }\n",
       "\n",
       "    .dataframe tbody tr th {\n",
       "        vertical-align: top;\n",
       "    }\n",
       "\n",
       "    .dataframe thead th {\n",
       "        text-align: right;\n",
       "    }\n",
       "</style>\n",
       "<table border=\"1\" class=\"dataframe\">\n",
       "  <thead>\n",
       "    <tr style=\"text-align: right;\">\n",
       "      <th></th>\n",
       "      <th>year</th>\n",
       "      <th>km_driven</th>\n",
       "      <th>owner</th>\n",
       "      <th>car_name</th>\n",
       "      <th>model</th>\n",
       "      <th>fuel_Diesel</th>\n",
       "      <th>fuel_Electric</th>\n",
       "      <th>fuel_LPG</th>\n",
       "      <th>fuel_Petrol</th>\n",
       "      <th>seller_type_Individual</th>\n",
       "      <th>seller_type_Trustmark Dealer</th>\n",
       "      <th>transmission_Manual</th>\n",
       "    </tr>\n",
       "  </thead>\n",
       "  <tbody>\n",
       "    <tr>\n",
       "      <th>3691</th>\n",
       "      <td>2014</td>\n",
       "      <td>63356</td>\n",
       "      <td>2</td>\n",
       "      <td>564714.255952</td>\n",
       "      <td>504373.215186</td>\n",
       "      <td>1</td>\n",
       "      <td>0</td>\n",
       "      <td>0</td>\n",
       "      <td>0</td>\n",
       "      <td>0</td>\n",
       "      <td>0</td>\n",
       "      <td>1</td>\n",
       "    </tr>\n",
       "    <tr>\n",
       "      <th>1717</th>\n",
       "      <td>2015</td>\n",
       "      <td>52328</td>\n",
       "      <td>1</td>\n",
       "      <td>564714.255952</td>\n",
       "      <td>504373.215186</td>\n",
       "      <td>1</td>\n",
       "      <td>0</td>\n",
       "      <td>0</td>\n",
       "      <td>0</td>\n",
       "      <td>0</td>\n",
       "      <td>0</td>\n",
       "      <td>1</td>\n",
       "    </tr>\n",
       "    <tr>\n",
       "      <th>2006</th>\n",
       "      <td>2008</td>\n",
       "      <td>70000</td>\n",
       "      <td>1</td>\n",
       "      <td>350250.363911</td>\n",
       "      <td>126894.710526</td>\n",
       "      <td>0</td>\n",
       "      <td>0</td>\n",
       "      <td>0</td>\n",
       "      <td>1</td>\n",
       "      <td>1</td>\n",
       "      <td>0</td>\n",
       "      <td>1</td>\n",
       "    </tr>\n",
       "  </tbody>\n",
       "</table>\n",
       "</div>"
      ],
      "text/plain": [
       "      year  km_driven  owner       car_name          model  fuel_Diesel  \\\n",
       "3691  2014      63356      2  564714.255952  504373.215186            1   \n",
       "1717  2015      52328      1  564714.255952  504373.215186            1   \n",
       "2006  2008      70000      1  350250.363911  126894.710526            0   \n",
       "\n",
       "      fuel_Electric  fuel_LPG  fuel_Petrol  seller_type_Individual  \\\n",
       "3691              0         0            0                       0   \n",
       "1717              0         0            0                       0   \n",
       "2006              0         0            1                       1   \n",
       "\n",
       "      seller_type_Trustmark Dealer  transmission_Manual  \n",
       "3691                             0                    1  \n",
       "1717                             0                    1  \n",
       "2006                             0                    1  "
      ]
     },
     "execution_count": 1600,
     "metadata": {},
     "output_type": "execute_result"
    }
   ],
   "source": [
    "X_train_ohe.head(3)"
   ]
  },
  {
   "cell_type": "markdown",
   "id": "aa280c67-7741-4c91-a106-1a24b6977d62",
   "metadata": {},
   "source": [
    "## Data Scaling"
   ]
  },
  {
   "cell_type": "code",
   "execution_count": 1601,
   "id": "614e37d0-3b70-437e-b223-a284b38d4f31",
   "metadata": {},
   "outputs": [],
   "source": [
    "cols_to_scale = ['km_driven','car_name','model']\n",
    "\n",
    "scaler = StandardScaler()\n",
    "scaler.fit(X_train_ohe[cols_to_scale])\n",
    "\n",
    "X_train_ohe[cols_to_scale] = scaler.transform(X_train_ohe[cols_to_scale])\n",
    "X_test_ohe[cols_to_scale] = scaler.transform(X_test_ohe[cols_to_scale])"
   ]
  },
  {
   "cell_type": "code",
   "execution_count": 1602,
   "id": "de3b0b86-bbe7-4b44-ab60-8bf44dd03d59",
   "metadata": {},
   "outputs": [
    {
     "data": {
      "text/html": [
       "<div>\n",
       "<style scoped>\n",
       "    .dataframe tbody tr th:only-of-type {\n",
       "        vertical-align: middle;\n",
       "    }\n",
       "\n",
       "    .dataframe tbody tr th {\n",
       "        vertical-align: top;\n",
       "    }\n",
       "\n",
       "    .dataframe thead th {\n",
       "        text-align: right;\n",
       "    }\n",
       "</style>\n",
       "<table border=\"1\" class=\"dataframe\">\n",
       "  <thead>\n",
       "    <tr style=\"text-align: right;\">\n",
       "      <th></th>\n",
       "      <th>year</th>\n",
       "      <th>km_driven</th>\n",
       "      <th>owner</th>\n",
       "      <th>car_name</th>\n",
       "      <th>model</th>\n",
       "      <th>fuel_Diesel</th>\n",
       "      <th>fuel_Electric</th>\n",
       "      <th>fuel_LPG</th>\n",
       "      <th>fuel_Petrol</th>\n",
       "      <th>seller_type_Individual</th>\n",
       "      <th>seller_type_Trustmark Dealer</th>\n",
       "      <th>transmission_Manual</th>\n",
       "    </tr>\n",
       "  </thead>\n",
       "  <tbody>\n",
       "    <tr>\n",
       "      <th>3691</th>\n",
       "      <td>2014</td>\n",
       "      <td>0.060939</td>\n",
       "      <td>2</td>\n",
       "      <td>0.181195</td>\n",
       "      <td>0.243234</td>\n",
       "      <td>1</td>\n",
       "      <td>0</td>\n",
       "      <td>0</td>\n",
       "      <td>0</td>\n",
       "      <td>0</td>\n",
       "      <td>0</td>\n",
       "      <td>1</td>\n",
       "    </tr>\n",
       "    <tr>\n",
       "      <th>1717</th>\n",
       "      <td>2015</td>\n",
       "      <td>-0.262392</td>\n",
       "      <td>1</td>\n",
       "      <td>0.181195</td>\n",
       "      <td>0.243234</td>\n",
       "      <td>1</td>\n",
       "      <td>0</td>\n",
       "      <td>0</td>\n",
       "      <td>0</td>\n",
       "      <td>0</td>\n",
       "      <td>0</td>\n",
       "      <td>1</td>\n",
       "    </tr>\n",
       "    <tr>\n",
       "      <th>2006</th>\n",
       "      <td>2008</td>\n",
       "      <td>0.255734</td>\n",
       "      <td>1</td>\n",
       "      <td>-0.380758</td>\n",
       "      <td>-5.153237</td>\n",
       "      <td>0</td>\n",
       "      <td>0</td>\n",
       "      <td>0</td>\n",
       "      <td>1</td>\n",
       "      <td>1</td>\n",
       "      <td>0</td>\n",
       "      <td>1</td>\n",
       "    </tr>\n",
       "  </tbody>\n",
       "</table>\n",
       "</div>"
      ],
      "text/plain": [
       "      year  km_driven  owner  car_name     model  fuel_Diesel  fuel_Electric  \\\n",
       "3691  2014   0.060939      2  0.181195  0.243234            1              0   \n",
       "1717  2015  -0.262392      1  0.181195  0.243234            1              0   \n",
       "2006  2008   0.255734      1 -0.380758 -5.153237            0              0   \n",
       "\n",
       "      fuel_LPG  fuel_Petrol  seller_type_Individual  \\\n",
       "3691         0            0                       0   \n",
       "1717         0            0                       0   \n",
       "2006         0            1                       1   \n",
       "\n",
       "      seller_type_Trustmark Dealer  transmission_Manual  \n",
       "3691                             0                    1  \n",
       "1717                             0                    1  \n",
       "2006                             0                    1  "
      ]
     },
     "execution_count": 1602,
     "metadata": {},
     "output_type": "execute_result"
    }
   ],
   "source": [
    "X_train_ohe.head(3)"
   ]
  },
  {
   "cell_type": "code",
   "execution_count": 1603,
   "id": "e1f11cec-35fe-42b0-a14f-61fd4d1f67f4",
   "metadata": {},
   "outputs": [
    {
     "data": {
      "text/html": [
       "<div>\n",
       "<style scoped>\n",
       "    .dataframe tbody tr th:only-of-type {\n",
       "        vertical-align: middle;\n",
       "    }\n",
       "\n",
       "    .dataframe tbody tr th {\n",
       "        vertical-align: top;\n",
       "    }\n",
       "\n",
       "    .dataframe thead th {\n",
       "        text-align: right;\n",
       "    }\n",
       "</style>\n",
       "<table border=\"1\" class=\"dataframe\">\n",
       "  <thead>\n",
       "    <tr style=\"text-align: right;\">\n",
       "      <th></th>\n",
       "      <th>year</th>\n",
       "      <th>km_driven</th>\n",
       "      <th>owner</th>\n",
       "      <th>car_name</th>\n",
       "      <th>model</th>\n",
       "      <th>fuel_Diesel</th>\n",
       "      <th>fuel_Electric</th>\n",
       "      <th>fuel_LPG</th>\n",
       "      <th>fuel_Petrol</th>\n",
       "      <th>seller_type_Individual</th>\n",
       "      <th>seller_type_Trustmark Dealer</th>\n",
       "      <th>transmission_Manual</th>\n",
       "    </tr>\n",
       "  </thead>\n",
       "  <tbody>\n",
       "    <tr>\n",
       "      <th>count</th>\n",
       "      <td>3253.000000</td>\n",
       "      <td>3.253000e+03</td>\n",
       "      <td>3253.000000</td>\n",
       "      <td>3.253000e+03</td>\n",
       "      <td>3.253000e+03</td>\n",
       "      <td>3253.000000</td>\n",
       "      <td>3253.000000</td>\n",
       "      <td>3253.000000</td>\n",
       "      <td>3253.000000</td>\n",
       "      <td>3253.000000</td>\n",
       "      <td>3253.000000</td>\n",
       "      <td>3253.000000</td>\n",
       "    </tr>\n",
       "    <tr>\n",
       "      <th>mean</th>\n",
       "      <td>2013.271749</td>\n",
       "      <td>1.146741e-17</td>\n",
       "      <td>1.442053</td>\n",
       "      <td>-6.115953e-17</td>\n",
       "      <td>4.619729e-16</td>\n",
       "      <td>0.482324</td>\n",
       "      <td>0.000307</td>\n",
       "      <td>0.004304</td>\n",
       "      <td>0.503535</td>\n",
       "      <td>0.746388</td>\n",
       "      <td>0.025515</td>\n",
       "      <td>0.897018</td>\n",
       "    </tr>\n",
       "    <tr>\n",
       "      <th>std</th>\n",
       "      <td>4.009206</td>\n",
       "      <td>1.000154e+00</td>\n",
       "      <td>0.707178</td>\n",
       "      <td>1.000154e+00</td>\n",
       "      <td>1.000154e+00</td>\n",
       "      <td>0.499764</td>\n",
       "      <td>0.017533</td>\n",
       "      <td>0.065471</td>\n",
       "      <td>0.500064</td>\n",
       "      <td>0.435145</td>\n",
       "      <td>0.157707</td>\n",
       "      <td>0.303982</td>\n",
       "    </tr>\n",
       "    <tr>\n",
       "      <th>min</th>\n",
       "      <td>2000.000000</td>\n",
       "      <td>-1.650003e+00</td>\n",
       "      <td>1.000000</td>\n",
       "      <td>-6.826792e-01</td>\n",
       "      <td>-5.391809e+00</td>\n",
       "      <td>0.000000</td>\n",
       "      <td>0.000000</td>\n",
       "      <td>0.000000</td>\n",
       "      <td>0.000000</td>\n",
       "      <td>0.000000</td>\n",
       "      <td>0.000000</td>\n",
       "      <td>0.000000</td>\n",
       "    </tr>\n",
       "    <tr>\n",
       "      <th>25%</th>\n",
       "      <td>2011.000000</td>\n",
       "      <td>-7.704319e-01</td>\n",
       "      <td>1.000000</td>\n",
       "      <td>-3.807584e-01</td>\n",
       "      <td>2.432340e-01</td>\n",
       "      <td>0.000000</td>\n",
       "      <td>0.000000</td>\n",
       "      <td>0.000000</td>\n",
       "      <td>0.000000</td>\n",
       "      <td>0.000000</td>\n",
       "      <td>0.000000</td>\n",
       "      <td>1.000000</td>\n",
       "    </tr>\n",
       "    <tr>\n",
       "      <th>50%</th>\n",
       "      <td>2014.000000</td>\n",
       "      <td>-8.143452e-02</td>\n",
       "      <td>1.000000</td>\n",
       "      <td>-1.721796e-01</td>\n",
       "      <td>2.432340e-01</td>\n",
       "      <td>0.000000</td>\n",
       "      <td>0.000000</td>\n",
       "      <td>0.000000</td>\n",
       "      <td>1.000000</td>\n",
       "      <td>1.000000</td>\n",
       "      <td>0.000000</td>\n",
       "      <td>1.000000</td>\n",
       "    </tr>\n",
       "    <tr>\n",
       "      <th>75%</th>\n",
       "      <td>2017.000000</td>\n",
       "      <td>6.955199e-01</td>\n",
       "      <td>2.000000</td>\n",
       "      <td>1.160874e-01</td>\n",
       "      <td>2.432340e-01</td>\n",
       "      <td>1.000000</td>\n",
       "      <td>0.000000</td>\n",
       "      <td>0.000000</td>\n",
       "      <td>1.000000</td>\n",
       "      <td>1.000000</td>\n",
       "      <td>0.000000</td>\n",
       "      <td>1.000000</td>\n",
       "    </tr>\n",
       "    <tr>\n",
       "      <th>max</th>\n",
       "      <td>2020.000000</td>\n",
       "      <td>2.601257e+00</td>\n",
       "      <td>5.000000</td>\n",
       "      <td>6.487522e+00</td>\n",
       "      <td>4.086569e-01</td>\n",
       "      <td>1.000000</td>\n",
       "      <td>1.000000</td>\n",
       "      <td>1.000000</td>\n",
       "      <td>1.000000</td>\n",
       "      <td>1.000000</td>\n",
       "      <td>1.000000</td>\n",
       "      <td>1.000000</td>\n",
       "    </tr>\n",
       "  </tbody>\n",
       "</table>\n",
       "</div>"
      ],
      "text/plain": [
       "              year     km_driven        owner      car_name         model  \\\n",
       "count  3253.000000  3.253000e+03  3253.000000  3.253000e+03  3.253000e+03   \n",
       "mean   2013.271749  1.146741e-17     1.442053 -6.115953e-17  4.619729e-16   \n",
       "std       4.009206  1.000154e+00     0.707178  1.000154e+00  1.000154e+00   \n",
       "min    2000.000000 -1.650003e+00     1.000000 -6.826792e-01 -5.391809e+00   \n",
       "25%    2011.000000 -7.704319e-01     1.000000 -3.807584e-01  2.432340e-01   \n",
       "50%    2014.000000 -8.143452e-02     1.000000 -1.721796e-01  2.432340e-01   \n",
       "75%    2017.000000  6.955199e-01     2.000000  1.160874e-01  2.432340e-01   \n",
       "max    2020.000000  2.601257e+00     5.000000  6.487522e+00  4.086569e-01   \n",
       "\n",
       "       fuel_Diesel  fuel_Electric     fuel_LPG  fuel_Petrol  \\\n",
       "count  3253.000000    3253.000000  3253.000000  3253.000000   \n",
       "mean      0.482324       0.000307     0.004304     0.503535   \n",
       "std       0.499764       0.017533     0.065471     0.500064   \n",
       "min       0.000000       0.000000     0.000000     0.000000   \n",
       "25%       0.000000       0.000000     0.000000     0.000000   \n",
       "50%       0.000000       0.000000     0.000000     1.000000   \n",
       "75%       1.000000       0.000000     0.000000     1.000000   \n",
       "max       1.000000       1.000000     1.000000     1.000000   \n",
       "\n",
       "       seller_type_Individual  seller_type_Trustmark Dealer  \\\n",
       "count             3253.000000                   3253.000000   \n",
       "mean                 0.746388                      0.025515   \n",
       "std                  0.435145                      0.157707   \n",
       "min                  0.000000                      0.000000   \n",
       "25%                  0.000000                      0.000000   \n",
       "50%                  1.000000                      0.000000   \n",
       "75%                  1.000000                      0.000000   \n",
       "max                  1.000000                      1.000000   \n",
       "\n",
       "       transmission_Manual  \n",
       "count          3253.000000  \n",
       "mean              0.897018  \n",
       "std               0.303982  \n",
       "min               0.000000  \n",
       "25%               1.000000  \n",
       "50%               1.000000  \n",
       "75%               1.000000  \n",
       "max               1.000000  "
      ]
     },
     "execution_count": 1603,
     "metadata": {},
     "output_type": "execute_result"
    }
   ],
   "source": [
    "# X_train_ohe['km_driven'].mean(),X_train_ohe['km_driven'].std() \n",
    "X_train_ohe.describe()"
   ]
  },
  {
   "cell_type": "code",
   "execution_count": 1604,
   "id": "297b8907-98ce-4aff-a495-267c8ba7b582",
   "metadata": {},
   "outputs": [
    {
     "data": {
      "text/plain": [
       "((3253, 12), (814, 12))"
      ]
     },
     "execution_count": 1604,
     "metadata": {},
     "output_type": "execute_result"
    }
   ],
   "source": [
    "X_train_ohe.shape, X_test_ohe.shape"
   ]
  },
  {
   "cell_type": "code",
   "execution_count": 1605,
   "id": "d0e3946e-6eca-426b-925d-706d3989ef71",
   "metadata": {},
   "outputs": [
    {
     "data": {
      "text/html": [
       "<div>\n",
       "<style scoped>\n",
       "    .dataframe tbody tr th:only-of-type {\n",
       "        vertical-align: middle;\n",
       "    }\n",
       "\n",
       "    .dataframe tbody tr th {\n",
       "        vertical-align: top;\n",
       "    }\n",
       "\n",
       "    .dataframe thead th {\n",
       "        text-align: right;\n",
       "    }\n",
       "</style>\n",
       "<table border=\"1\" class=\"dataframe\">\n",
       "  <thead>\n",
       "    <tr style=\"text-align: right;\">\n",
       "      <th></th>\n",
       "      <th>year</th>\n",
       "      <th>km_driven</th>\n",
       "      <th>owner</th>\n",
       "      <th>car_name</th>\n",
       "      <th>model</th>\n",
       "      <th>fuel_Diesel</th>\n",
       "      <th>fuel_Electric</th>\n",
       "      <th>fuel_LPG</th>\n",
       "      <th>fuel_Petrol</th>\n",
       "      <th>seller_type_Individual</th>\n",
       "      <th>seller_type_Trustmark Dealer</th>\n",
       "      <th>transmission_Manual</th>\n",
       "    </tr>\n",
       "  </thead>\n",
       "  <tbody>\n",
       "    <tr>\n",
       "      <th>3691</th>\n",
       "      <td>2014</td>\n",
       "      <td>0.060939</td>\n",
       "      <td>2</td>\n",
       "      <td>0.181195</td>\n",
       "      <td>0.243234</td>\n",
       "      <td>1</td>\n",
       "      <td>0</td>\n",
       "      <td>0</td>\n",
       "      <td>0</td>\n",
       "      <td>0</td>\n",
       "      <td>0</td>\n",
       "      <td>1</td>\n",
       "    </tr>\n",
       "    <tr>\n",
       "      <th>1717</th>\n",
       "      <td>2015</td>\n",
       "      <td>-0.262392</td>\n",
       "      <td>1</td>\n",
       "      <td>0.181195</td>\n",
       "      <td>0.243234</td>\n",
       "      <td>1</td>\n",
       "      <td>0</td>\n",
       "      <td>0</td>\n",
       "      <td>0</td>\n",
       "      <td>0</td>\n",
       "      <td>0</td>\n",
       "      <td>1</td>\n",
       "    </tr>\n",
       "    <tr>\n",
       "      <th>2006</th>\n",
       "      <td>2008</td>\n",
       "      <td>0.255734</td>\n",
       "      <td>1</td>\n",
       "      <td>-0.380758</td>\n",
       "      <td>-5.153237</td>\n",
       "      <td>0</td>\n",
       "      <td>0</td>\n",
       "      <td>0</td>\n",
       "      <td>1</td>\n",
       "      <td>1</td>\n",
       "      <td>0</td>\n",
       "      <td>1</td>\n",
       "    </tr>\n",
       "    <tr>\n",
       "      <th>3594</th>\n",
       "      <td>2014</td>\n",
       "      <td>1.135305</td>\n",
       "      <td>2</td>\n",
       "      <td>0.364692</td>\n",
       "      <td>0.243234</td>\n",
       "      <td>1</td>\n",
       "      <td>0</td>\n",
       "      <td>0</td>\n",
       "      <td>0</td>\n",
       "      <td>1</td>\n",
       "      <td>0</td>\n",
       "      <td>1</td>\n",
       "    </tr>\n",
       "    <tr>\n",
       "      <th>470</th>\n",
       "      <td>2009</td>\n",
       "      <td>1.721686</td>\n",
       "      <td>2</td>\n",
       "      <td>-0.172180</td>\n",
       "      <td>0.243234</td>\n",
       "      <td>0</td>\n",
       "      <td>0</td>\n",
       "      <td>0</td>\n",
       "      <td>1</td>\n",
       "      <td>1</td>\n",
       "      <td>0</td>\n",
       "      <td>1</td>\n",
       "    </tr>\n",
       "    <tr>\n",
       "      <th>...</th>\n",
       "      <td>...</td>\n",
       "      <td>...</td>\n",
       "      <td>...</td>\n",
       "      <td>...</td>\n",
       "      <td>...</td>\n",
       "      <td>...</td>\n",
       "      <td>...</td>\n",
       "      <td>...</td>\n",
       "      <td>...</td>\n",
       "      <td>...</td>\n",
       "      <td>...</td>\n",
       "      <td>...</td>\n",
       "    </tr>\n",
       "    <tr>\n",
       "      <th>1200</th>\n",
       "      <td>2017</td>\n",
       "      <td>-1.356813</td>\n",
       "      <td>1</td>\n",
       "      <td>-0.380758</td>\n",
       "      <td>0.243234</td>\n",
       "      <td>0</td>\n",
       "      <td>0</td>\n",
       "      <td>0</td>\n",
       "      <td>1</td>\n",
       "      <td>1</td>\n",
       "      <td>0</td>\n",
       "      <td>0</td>\n",
       "    </tr>\n",
       "    <tr>\n",
       "      <th>1373</th>\n",
       "      <td>2016</td>\n",
       "      <td>-0.682475</td>\n",
       "      <td>1</td>\n",
       "      <td>-0.244234</td>\n",
       "      <td>0.243234</td>\n",
       "      <td>0</td>\n",
       "      <td>0</td>\n",
       "      <td>0</td>\n",
       "      <td>1</td>\n",
       "      <td>1</td>\n",
       "      <td>0</td>\n",
       "      <td>1</td>\n",
       "    </tr>\n",
       "    <tr>\n",
       "      <th>915</th>\n",
       "      <td>2017</td>\n",
       "      <td>-0.433058</td>\n",
       "      <td>1</td>\n",
       "      <td>-0.380758</td>\n",
       "      <td>0.408657</td>\n",
       "      <td>1</td>\n",
       "      <td>0</td>\n",
       "      <td>0</td>\n",
       "      <td>0</td>\n",
       "      <td>0</td>\n",
       "      <td>1</td>\n",
       "      <td>1</td>\n",
       "    </tr>\n",
       "    <tr>\n",
       "      <th>3750</th>\n",
       "      <td>2014</td>\n",
       "      <td>0.842115</td>\n",
       "      <td>1</td>\n",
       "      <td>0.181195</td>\n",
       "      <td>0.243234</td>\n",
       "      <td>1</td>\n",
       "      <td>0</td>\n",
       "      <td>0</td>\n",
       "      <td>0</td>\n",
       "      <td>1</td>\n",
       "      <td>0</td>\n",
       "      <td>1</td>\n",
       "    </tr>\n",
       "    <tr>\n",
       "      <th>3383</th>\n",
       "      <td>2014</td>\n",
       "      <td>-0.096094</td>\n",
       "      <td>1</td>\n",
       "      <td>-0.532306</td>\n",
       "      <td>0.243234</td>\n",
       "      <td>0</td>\n",
       "      <td>0</td>\n",
       "      <td>0</td>\n",
       "      <td>1</td>\n",
       "      <td>1</td>\n",
       "      <td>0</td>\n",
       "      <td>1</td>\n",
       "    </tr>\n",
       "  </tbody>\n",
       "</table>\n",
       "<p>3253 rows × 12 columns</p>\n",
       "</div>"
      ],
      "text/plain": [
       "      year  km_driven  owner  car_name     model  fuel_Diesel  fuel_Electric  \\\n",
       "3691  2014   0.060939      2  0.181195  0.243234            1              0   \n",
       "1717  2015  -0.262392      1  0.181195  0.243234            1              0   \n",
       "2006  2008   0.255734      1 -0.380758 -5.153237            0              0   \n",
       "3594  2014   1.135305      2  0.364692  0.243234            1              0   \n",
       "470   2009   1.721686      2 -0.172180  0.243234            0              0   \n",
       "...    ...        ...    ...       ...       ...          ...            ...   \n",
       "1200  2017  -1.356813      1 -0.380758  0.243234            0              0   \n",
       "1373  2016  -0.682475      1 -0.244234  0.243234            0              0   \n",
       "915   2017  -0.433058      1 -0.380758  0.408657            1              0   \n",
       "3750  2014   0.842115      1  0.181195  0.243234            1              0   \n",
       "3383  2014  -0.096094      1 -0.532306  0.243234            0              0   \n",
       "\n",
       "      fuel_LPG  fuel_Petrol  seller_type_Individual  \\\n",
       "3691         0            0                       0   \n",
       "1717         0            0                       0   \n",
       "2006         0            1                       1   \n",
       "3594         0            0                       1   \n",
       "470          0            1                       1   \n",
       "...        ...          ...                     ...   \n",
       "1200         0            1                       1   \n",
       "1373         0            1                       1   \n",
       "915          0            0                       0   \n",
       "3750         0            0                       1   \n",
       "3383         0            1                       1   \n",
       "\n",
       "      seller_type_Trustmark Dealer  transmission_Manual  \n",
       "3691                             0                    1  \n",
       "1717                             0                    1  \n",
       "2006                             0                    1  \n",
       "3594                             0                    1  \n",
       "470                              0                    1  \n",
       "...                            ...                  ...  \n",
       "1200                             0                    0  \n",
       "1373                             0                    1  \n",
       "915                              1                    1  \n",
       "3750                             0                    1  \n",
       "3383                             0                    1  \n",
       "\n",
       "[3253 rows x 12 columns]"
      ]
     },
     "execution_count": 1605,
     "metadata": {},
     "output_type": "execute_result"
    }
   ],
   "source": [
    "X_train_ohe"
   ]
  },
  {
   "cell_type": "markdown",
   "id": "8a24ed4f-cff4-477f-b00f-abaaef37077e",
   "metadata": {},
   "source": [
    "# feature selection using RFE"
   ]
  },
  {
   "cell_type": "code",
   "execution_count": 1660,
   "id": "cf048cb2-b8da-4e8e-8321-65dd38ffcfd0",
   "metadata": {},
   "outputs": [
    {
     "data": {
      "text/html": [
       "<style>#sk-container-id-47 {color: black;background-color: white;}#sk-container-id-47 pre{padding: 0;}#sk-container-id-47 div.sk-toggleable {background-color: white;}#sk-container-id-47 label.sk-toggleable__label {cursor: pointer;display: block;width: 100%;margin-bottom: 0;padding: 0.3em;box-sizing: border-box;text-align: center;}#sk-container-id-47 label.sk-toggleable__label-arrow:before {content: \"▸\";float: left;margin-right: 0.25em;color: #696969;}#sk-container-id-47 label.sk-toggleable__label-arrow:hover:before {color: black;}#sk-container-id-47 div.sk-estimator:hover label.sk-toggleable__label-arrow:before {color: black;}#sk-container-id-47 div.sk-toggleable__content {max-height: 0;max-width: 0;overflow: hidden;text-align: left;background-color: #f0f8ff;}#sk-container-id-47 div.sk-toggleable__content pre {margin: 0.2em;color: black;border-radius: 0.25em;background-color: #f0f8ff;}#sk-container-id-47 input.sk-toggleable__control:checked~div.sk-toggleable__content {max-height: 200px;max-width: 100%;overflow: auto;}#sk-container-id-47 input.sk-toggleable__control:checked~label.sk-toggleable__label-arrow:before {content: \"▾\";}#sk-container-id-47 div.sk-estimator input.sk-toggleable__control:checked~label.sk-toggleable__label {background-color: #d4ebff;}#sk-container-id-47 div.sk-label input.sk-toggleable__control:checked~label.sk-toggleable__label {background-color: #d4ebff;}#sk-container-id-47 input.sk-hidden--visually {border: 0;clip: rect(1px 1px 1px 1px);clip: rect(1px, 1px, 1px, 1px);height: 1px;margin: -1px;overflow: hidden;padding: 0;position: absolute;width: 1px;}#sk-container-id-47 div.sk-estimator {font-family: monospace;background-color: #f0f8ff;border: 1px dotted black;border-radius: 0.25em;box-sizing: border-box;margin-bottom: 0.5em;}#sk-container-id-47 div.sk-estimator:hover {background-color: #d4ebff;}#sk-container-id-47 div.sk-parallel-item::after {content: \"\";width: 100%;border-bottom: 1px solid gray;flex-grow: 1;}#sk-container-id-47 div.sk-label:hover label.sk-toggleable__label {background-color: #d4ebff;}#sk-container-id-47 div.sk-serial::before {content: \"\";position: absolute;border-left: 1px solid gray;box-sizing: border-box;top: 0;bottom: 0;left: 50%;z-index: 0;}#sk-container-id-47 div.sk-serial {display: flex;flex-direction: column;align-items: center;background-color: white;padding-right: 0.2em;padding-left: 0.2em;position: relative;}#sk-container-id-47 div.sk-item {position: relative;z-index: 1;}#sk-container-id-47 div.sk-parallel {display: flex;align-items: stretch;justify-content: center;background-color: white;position: relative;}#sk-container-id-47 div.sk-item::before, #sk-container-id-47 div.sk-parallel-item::before {content: \"\";position: absolute;border-left: 1px solid gray;box-sizing: border-box;top: 0;bottom: 0;left: 50%;z-index: -1;}#sk-container-id-47 div.sk-parallel-item {display: flex;flex-direction: column;z-index: 1;position: relative;background-color: white;}#sk-container-id-47 div.sk-parallel-item:first-child::after {align-self: flex-end;width: 50%;}#sk-container-id-47 div.sk-parallel-item:last-child::after {align-self: flex-start;width: 50%;}#sk-container-id-47 div.sk-parallel-item:only-child::after {width: 0;}#sk-container-id-47 div.sk-dashed-wrapped {border: 1px dashed gray;margin: 0 0.4em 0.5em 0.4em;box-sizing: border-box;padding-bottom: 0.4em;background-color: white;}#sk-container-id-47 div.sk-label label {font-family: monospace;font-weight: bold;display: inline-block;line-height: 1.2em;}#sk-container-id-47 div.sk-label-container {text-align: center;}#sk-container-id-47 div.sk-container {/* jupyter's `normalize.less` sets `[hidden] { display: none; }` but bootstrap.min.css set `[hidden] { display: none !important; }` so we also need the `!important` here to be able to override the default hidden behavior on the sphinx rendered scikit-learn.org. See: https://github.com/scikit-learn/scikit-learn/issues/21755 */display: inline-block !important;position: relative;}#sk-container-id-47 div.sk-text-repr-fallback {display: none;}</style><div id=\"sk-container-id-47\" class=\"sk-top-container\"><div class=\"sk-text-repr-fallback\"><pre>RFE(estimator=LinearRegression(), n_features_to_select=10)</pre><b>In a Jupyter environment, please rerun this cell to show the HTML representation or trust the notebook. <br />On GitHub, the HTML representation is unable to render, please try loading this page with nbviewer.org.</b></div><div class=\"sk-container\" hidden><div class=\"sk-item sk-dashed-wrapped\"><div class=\"sk-label-container\"><div class=\"sk-label sk-toggleable\"><input class=\"sk-toggleable__control sk-hidden--visually\" id=\"sk-estimator-id-133\" type=\"checkbox\" ><label for=\"sk-estimator-id-133\" class=\"sk-toggleable__label sk-toggleable__label-arrow\">RFE</label><div class=\"sk-toggleable__content\"><pre>RFE(estimator=LinearRegression(), n_features_to_select=10)</pre></div></div></div><div class=\"sk-parallel\"><div class=\"sk-parallel-item\"><div class=\"sk-item\"><div class=\"sk-label-container\"><div class=\"sk-label sk-toggleable\"><input class=\"sk-toggleable__control sk-hidden--visually\" id=\"sk-estimator-id-134\" type=\"checkbox\" ><label for=\"sk-estimator-id-134\" class=\"sk-toggleable__label sk-toggleable__label-arrow\">estimator: LinearRegression</label><div class=\"sk-toggleable__content\"><pre>LinearRegression()</pre></div></div></div><div class=\"sk-serial\"><div class=\"sk-item\"><div class=\"sk-estimator sk-toggleable\"><input class=\"sk-toggleable__control sk-hidden--visually\" id=\"sk-estimator-id-135\" type=\"checkbox\" ><label for=\"sk-estimator-id-135\" class=\"sk-toggleable__label sk-toggleable__label-arrow\">LinearRegression</label><div class=\"sk-toggleable__content\"><pre>LinearRegression()</pre></div></div></div></div></div></div></div></div></div></div>"
      ],
      "text/plain": [
       "RFE(estimator=LinearRegression(), n_features_to_select=10)"
      ]
     },
     "execution_count": 1660,
     "metadata": {},
     "output_type": "execute_result"
    }
   ],
   "source": [
    "estimator = LinearRegression()\n",
    "selected_features = 10\n",
    "\n",
    "rfe = RFE(estimator= estimator, n_features_to_select= selected_features)\n",
    "\n",
    "rfe.fit(X_train_ohe, y_train)"
   ]
  },
  {
   "cell_type": "code",
   "execution_count": 1661,
   "id": "3e7972ad-f956-410a-9abb-77d811cf3cfe",
   "metadata": {},
   "outputs": [
    {
     "data": {
      "text/plain": [
       "array([1, 1, 1, 1, 1, 1, 1, 1, 3, 2, 1, 1])"
      ]
     },
     "execution_count": 1661,
     "metadata": {},
     "output_type": "execute_result"
    }
   ],
   "source": [
    "rfe.ranking_"
   ]
  },
  {
   "cell_type": "code",
   "execution_count": 1662,
   "id": "ed1ff35c-4f17-45fa-a6cd-eb7ab670df70",
   "metadata": {},
   "outputs": [
    {
     "data": {
      "text/plain": [
       "array([ True,  True,  True,  True,  True,  True,  True,  True, False,\n",
       "       False,  True,  True])"
      ]
     },
     "execution_count": 1662,
     "metadata": {},
     "output_type": "execute_result"
    }
   ],
   "source": [
    "rfe.support_"
   ]
  },
  {
   "cell_type": "code",
   "execution_count": 1664,
   "id": "33876274-f898-4aaf-b6c4-5cfb6c940ce1",
   "metadata": {},
   "outputs": [
    {
     "data": {
      "text/plain": [
       "['year',\n",
       " 'km_driven',\n",
       " 'owner',\n",
       " 'car_name',\n",
       " 'model',\n",
       " 'fuel_Diesel',\n",
       " 'fuel_Electric',\n",
       " 'fuel_LPG',\n",
       " 'seller_type_Trustmark Dealer',\n",
       " 'transmission_Manual']"
      ]
     },
     "execution_count": 1664,
     "metadata": {},
     "output_type": "execute_result"
    }
   ],
   "source": [
    "X_train_ohe.columns[rfe.support_].tolist()"
   ]
  },
  {
   "cell_type": "code",
   "execution_count": 1665,
   "id": "85bd29cf-d2da-43ae-941c-ee1b613e30cf",
   "metadata": {},
   "outputs": [],
   "source": [
    "selected_features = X_train_ohe.columns[rfe.support_].tolist()\n"
   ]
  },
  {
   "cell_type": "code",
   "execution_count": 1666,
   "id": "f8178a09-af75-4f2d-b2af-2682470b02fa",
   "metadata": {},
   "outputs": [],
   "source": [
    "X_train_selected = X_train_ohe[selected_features]\n",
    "X_test_selected = X_test_ohe[selected_features]"
   ]
  },
  {
   "cell_type": "code",
   "execution_count": 1667,
   "id": "d56cbd82-628b-4767-8c32-39571f4b5790",
   "metadata": {},
   "outputs": [
    {
     "data": {
      "text/plain": [
       "((3253, 10), (814, 10))"
      ]
     },
     "execution_count": 1667,
     "metadata": {},
     "output_type": "execute_result"
    }
   ],
   "source": [
    "X_train_selected.shape, X_test_selected.shape"
   ]
  },
  {
   "cell_type": "markdown",
   "id": "265fdf5a-89a3-469a-96b9-358d9638265a",
   "metadata": {},
   "source": [
    "# VIF to check for multicollinearity for selected features"
   ]
  },
  {
   "cell_type": "code",
   "execution_count": 1668,
   "id": "8f6b73d0-4da5-49df-bb70-f8ce76db15dc",
   "metadata": {},
   "outputs": [],
   "source": [
    "vif_df = pd.DataFrame()\n",
    "\n",
    "vif_df['features'] = X_train_selected.columns\n",
    "vif_df['vif'] = [variance_inflation_factor(X_train_selected.values, i) for i in range(X_train_selected.shape[1])]"
   ]
  },
  {
   "cell_type": "code",
   "execution_count": 1669,
   "id": "40639612-52a8-492a-814f-d63112e63895",
   "metadata": {},
   "outputs": [
    {
     "data": {
      "text/html": [
       "<div>\n",
       "<style scoped>\n",
       "    .dataframe tbody tr th:only-of-type {\n",
       "        vertical-align: middle;\n",
       "    }\n",
       "\n",
       "    .dataframe tbody tr th {\n",
       "        vertical-align: top;\n",
       "    }\n",
       "\n",
       "    .dataframe thead th {\n",
       "        text-align: right;\n",
       "    }\n",
       "</style>\n",
       "<table border=\"1\" class=\"dataframe\">\n",
       "  <thead>\n",
       "    <tr style=\"text-align: right;\">\n",
       "      <th></th>\n",
       "      <th>features</th>\n",
       "      <th>vif</th>\n",
       "    </tr>\n",
       "  </thead>\n",
       "  <tbody>\n",
       "    <tr>\n",
       "      <th>0</th>\n",
       "      <td>year</td>\n",
       "      <td>18.872701</td>\n",
       "    </tr>\n",
       "    <tr>\n",
       "      <th>1</th>\n",
       "      <td>km_driven</td>\n",
       "      <td>1.317128</td>\n",
       "    </tr>\n",
       "    <tr>\n",
       "      <th>2</th>\n",
       "      <td>owner</td>\n",
       "      <td>6.039173</td>\n",
       "    </tr>\n",
       "    <tr>\n",
       "      <th>3</th>\n",
       "      <td>car_name</td>\n",
       "      <td>1.395477</td>\n",
       "    </tr>\n",
       "    <tr>\n",
       "      <th>4</th>\n",
       "      <td>model</td>\n",
       "      <td>1.062209</td>\n",
       "    </tr>\n",
       "    <tr>\n",
       "      <th>5</th>\n",
       "      <td>fuel_Diesel</td>\n",
       "      <td>2.403330</td>\n",
       "    </tr>\n",
       "    <tr>\n",
       "      <th>6</th>\n",
       "      <td>fuel_Electric</td>\n",
       "      <td>1.003812</td>\n",
       "    </tr>\n",
       "    <tr>\n",
       "      <th>7</th>\n",
       "      <td>fuel_LPG</td>\n",
       "      <td>1.015375</td>\n",
       "    </tr>\n",
       "    <tr>\n",
       "      <th>8</th>\n",
       "      <td>seller_type_Trustmark Dealer</td>\n",
       "      <td>1.046014</td>\n",
       "    </tr>\n",
       "    <tr>\n",
       "      <th>9</th>\n",
       "      <td>transmission_Manual</td>\n",
       "      <td>13.109650</td>\n",
       "    </tr>\n",
       "  </tbody>\n",
       "</table>\n",
       "</div>"
      ],
      "text/plain": [
       "                       features        vif\n",
       "0                          year  18.872701\n",
       "1                     km_driven   1.317128\n",
       "2                         owner   6.039173\n",
       "3                      car_name   1.395477\n",
       "4                         model   1.062209\n",
       "5                   fuel_Diesel   2.403330\n",
       "6                 fuel_Electric   1.003812\n",
       "7                      fuel_LPG   1.015375\n",
       "8  seller_type_Trustmark Dealer   1.046014\n",
       "9           transmission_Manual  13.109650"
      ]
     },
     "execution_count": 1669,
     "metadata": {},
     "output_type": "execute_result"
    }
   ],
   "source": [
    "vif_df"
   ]
  },
  {
   "cell_type": "markdown",
   "id": "7dec3bbe-74fe-42cf-9e5a-e98a86790467",
   "metadata": {},
   "source": [
    "observations:\n",
    "- implemented train, test\n",
    "- check for any transformation required for each feature, same to be applied to test as well\n",
    "- splitted name feature into car_name & model, applied same transformation to test as well.\n",
    "- OHE --> low cardinality features < 5\n",
    "- Te --> high cardinality features > 5\n",
    "- scaling --> numerical features\n",
    "- rfe --> top 10 influence feature to target variable\n",
    "- VIF --> to check multicollinearlity\n",
    "- selected features to run the model"
   ]
  },
  {
   "cell_type": "markdown",
   "id": "aa39bfea-ebac-4c90-a044-2c4ee5ad0c30",
   "metadata": {},
   "source": [
    "# model training & evaluation"
   ]
  },
  {
   "cell_type": "code",
   "execution_count": 1703,
   "id": "8b85f956-2f50-428b-bd31-eaffe831d299",
   "metadata": {},
   "outputs": [
    {
     "name": "stdout",
     "output_type": "stream",
     "text": [
      "train_rmse: 349523.65782535495\n",
      "test_rmse: 346893.83526875766\n",
      "--------------------------------------\n",
      "train_r2: 0.6309954550217575\n",
      "test_r2: 0.7008205150112956\n"
     ]
    }
   ],
   "source": [
    "model = LinearRegression()\n",
    "\n",
    "model.fit(X_train_selected, y_train)\n",
    "y_train_pred = model.predict(X_train_selected)\n",
    "y_test_pred = model.predict(X_test_selected)\n",
    "\n",
    "train_rmse = np.sqrt(mean_squared_error(y_train, y_train_pred))\n",
    "test_rmse = np.sqrt(mean_squared_error(y_test, y_test_pred))\n",
    "\n",
    "train_r2 = r2_score(y_train, y_train_pred)\n",
    "test_r2 = r2_score(y_test, y_test_pred)\n",
    "\n",
    "\n",
    "print(f\"train_rmse: {train_rmse}\")\n",
    "print(f\"test_rmse: {test_rmse}\")\n",
    "print(\"--------------------------------------\")\n",
    "\n",
    "print(f\"train_r2: {train_r2}\")\n",
    "print(f\"test_r2: {test_r2}\")\n"
   ]
  },
  {
   "cell_type": "code",
   "execution_count": 1704,
   "id": "efce7d0c-a82a-460c-81d7-247e2c1c8de5",
   "metadata": {},
   "outputs": [
    {
     "name": "stdout",
     "output_type": "stream",
     "text": [
      "train_rmse: 349523.66198633256\n",
      "test_rmse: 346894.2087527308\n",
      "--------------------------------------\n",
      "train_r2: 0.6309954462359735\n",
      "test_r2: 0.7008198707865125\n"
     ]
    }
   ],
   "source": [
    "model = Lasso(alpha=0.9, max_iter=10000)\n",
    "\n",
    "model.fit(X_train_selected, y_train)\n",
    "y_train_pred = model.predict(X_train_selected)\n",
    "y_test_pred = model.predict(X_test_selected)\n",
    "\n",
    "train_rmse = np.sqrt(mean_squared_error(y_train, y_train_pred))\n",
    "test_rmse = np.sqrt(mean_squared_error(y_test, y_test_pred))\n",
    "\n",
    "train_r2 = r2_score(y_train, y_train_pred)\n",
    "test_r2 = r2_score(y_test, y_test_pred)\n",
    "\n",
    "\n",
    "print(f\"train_rmse: {train_rmse}\")\n",
    "print(f\"test_rmse: {test_rmse}\")\n",
    "print(\"--------------------------------------\")\n",
    "\n",
    "print(f\"train_r2: {train_r2}\")\n",
    "print(f\"test_r2: {test_r2}\")"
   ]
  },
  {
   "cell_type": "markdown",
   "id": "d8a461b5-80f1-4c4f-9f82-2abcf442d3e5",
   "metadata": {},
   "source": [
    "### Lasso CV for feature selection"
   ]
  },
  {
   "cell_type": "code",
   "execution_count": 1672,
   "id": "d723d2f1-79d7-4508-8a01-5d584f99f3a2",
   "metadata": {},
   "outputs": [
    {
     "name": "stdout",
     "output_type": "stream",
     "text": [
      "test_score_lr: 347252.62497733894\n",
      "--------------------------------------\n",
      "test_r2: 0.70020131673737\n",
      "--------------------------------------\n",
      "'optimal alpha: 961.7962065095576\n"
     ]
    },
    {
     "data": {
      "text/plain": [
       "array([  40145.17139176,  -42997.26219775,   -7488.4406352 ,\n",
       "        288952.16350979,    8499.43998967,  159152.85230843,\n",
       "            -0.        ,       0.        ,  227402.21888705,\n",
       "       -393757.59068594])"
      ]
     },
     "execution_count": 1672,
     "metadata": {},
     "output_type": "execute_result"
    }
   ],
   "source": [
    "model = LassoCV(cv = 5, random_state=42)\n",
    "\n",
    "model.fit(X_train_selected, y_train)\n",
    "\n",
    "y_test_pred = model.predict(X_test_selected)\n",
    "\n",
    "test_rmse = np.sqrt(mean_squared_error(y_test, y_test_pred))\n",
    "test_r2 = r2_score(y_test, y_test_pred)\n",
    "\n",
    "print(f\"test_score_lr: {test_rmse}\")\n",
    "print(\"--------------------------------------\")\n",
    "print(f\"test_r2: {test_r2}\")\n",
    "print(\"--------------------------------------\")\n",
    "print(f\"'optimal alpha: {model.alpha_}\")\n",
    "\n",
    "model.coef_"
   ]
  },
  {
   "cell_type": "code",
   "execution_count": 1705,
   "id": "7521b31c-63b4-4af7-9dba-8688495433f2",
   "metadata": {},
   "outputs": [
    {
     "name": "stdout",
     "output_type": "stream",
     "text": [
      "train_rmse: 140695.58826800424\n",
      "test_rmse: 225564.30703024968\n",
      "--------------------------------------\n",
      "train_r2: 0.9402084900194057\n",
      "test_r2: 0.8735032395294295\n"
     ]
    }
   ],
   "source": [
    "model_rf = RandomForestRegressor(n_estimators = 500, max_depth = 100, min_samples_split =5)\n",
    "\n",
    "model_rf.fit(X_train_selected, y_train)\n",
    "y_train_pred_best1 = model_rf.predict(X_train_selected)\n",
    "y_test_pred_best1 = model_rf.predict(X_test_selected)\n",
    "\n",
    "train_rmse = np.sqrt(mean_squared_error(y_train, y_train_pred_best1))\n",
    "test_rmse = np.sqrt(mean_squared_error(y_test, y_test_pred_best1))\n",
    "\n",
    "train_r2 = r2_score(y_train, y_train_pred_best1)\n",
    "test_r2 = r2_score(y_test, y_test_pred_best1)\n",
    "\n",
    "\n",
    "print(f\"train_rmse: {train_rmse}\")\n",
    "print(f\"test_rmse: {test_rmse}\")\n",
    "print(\"--------------------------------------\")\n",
    "\n",
    "print(f\"train_r2: {train_r2}\")\n",
    "print(f\"test_r2: {test_r2}\")"
   ]
  },
  {
   "cell_type": "code",
   "execution_count": 1706,
   "id": "18d49444-3b1c-48eb-a1da-2525867da1e7",
   "metadata": {},
   "outputs": [
    {
     "name": "stdout",
     "output_type": "stream",
     "text": [
      "train_rmse: 219359.11397603844\n",
      "test_rmse: 253998.2056003027\n",
      "--------------------------------------\n",
      "train_r2: 0.8546584027921751\n",
      "test_r2: 0.839601632677982\n"
     ]
    }
   ],
   "source": [
    "model = DecisionTreeRegressor(criterion = 'friedman_mse',max_depth = 100, min_samples_split = 5, min_samples_leaf = 5)\n",
    "\n",
    "model.fit(X_train_selected, y_train)\n",
    "y_train_pred_best = model.predict(X_train_selected)\n",
    "y_test_pred_best = model.predict(X_test_selected)\n",
    "\n",
    "train_rmse = np.sqrt(mean_squared_error(y_train, y_train_pred_best))\n",
    "test_rmse = np.sqrt(mean_squared_error(y_test, y_test_pred_best))\n",
    "\n",
    "train_r2 = r2_score(y_train, y_train_pred_best)\n",
    "test_r2 = r2_score(y_test, y_test_pred_best)\n",
    "\n",
    "\n",
    "print(f\"train_rmse: {train_rmse}\")\n",
    "print(f\"test_rmse: {test_rmse}\")\n",
    "print(\"--------------------------------------\")\n",
    "\n",
    "print(f\"train_r2: {train_r2}\")\n",
    "print(f\"test_r2: {test_r2}\")"
   ]
  },
  {
   "cell_type": "code",
   "execution_count": 1675,
   "id": "c5947d5c-6f3b-4926-9bd2-234974a9e9f9",
   "metadata": {},
   "outputs": [],
   "source": [
    "def model_train_and_evaluate(model, X_train, y_train, X_test, y_test):\n",
    "\n",
    "    models = {\n",
    "    'Linear Regression': LinearRegression(),\n",
    "    'Lasso Regression': Lasso(alpha=100, max_iter= 10000),\n",
    "    'Ridge Regression': Ridge(),\n",
    "    'XGBoost': XGBRegressor(n_estimators = 10, max_depth = 100, learning_rate = 0.3, random_state = 42),\n",
    "    'Random forest': RandomForestRegressor(n_estimators = 200, max_depth = 100, min_samples_split =5)\n",
    "    }\n",
    "\n",
    "    results = {}\n",
    "\n",
    "    for name, model in models.items():\n",
    "        model.fit(X_train, y_train)\n",
    "    \n",
    "        y_train_pred = model.predict(X_train)\n",
    "        y_test_pred = model.predict(X_test)\n",
    "    \n",
    "        train_rmse = np.sqrt(mean_squared_error(y_train, y_train_pred))\n",
    "        test_rmse = np.sqrt(mean_squared_error(y_test, y_test_pred))\n",
    "    \n",
    "        train_r2 = r2_score(y_train, y_train_pred)\n",
    "        test_r2 = r2_score(y_test, y_test_pred)\n",
    "\n",
    "        results[name] = {\n",
    "            'train_rmse': train_rmse,\n",
    "            'test_rmse': test_rmse,\n",
    "            'train_r2': train_r2,\n",
    "            'test_r2': test_r2,\n",
    "            '': '------------------------'\n",
    "        }\n",
    "    \n",
    "        # print(f\"model name: {model}\")\n",
    "        # print(f\"train rmse: {train_rmse}\")\n",
    "        # print(f\"test rmse: {test_rmse}\")\n",
    "        # print(f\"test r2: {train_r2}\")\n",
    "        # print(f\"test r2: {test_r2}\")\n",
    "        # print(\"----------------------------\")\n",
    "    \n",
    "    return results \n"
   ]
  },
  {
   "cell_type": "code",
   "execution_count": 1676,
   "id": "da7d2649-5e0b-4377-8255-20fb957eef5b",
   "metadata": {},
   "outputs": [
    {
     "data": {
      "text/plain": [
       "{'Linear Regression': {'train_rmse': 349523.65782535495,\n",
       "  'test_rmse': 346893.83526875766,\n",
       "  'train_r2': 0.6309954550217575,\n",
       "  'test_r2': 0.7008205150112956,\n",
       "  '': '------------------------'},\n",
       " 'Lasso Regression': {'train_rmse': 349573.32853632147,\n",
       "  'test_rmse': 346938.45235392376,\n",
       "  'train_r2': 0.6308905693006732,\n",
       "  'test_r2': 0.7007435498211432,\n",
       "  '': '------------------------'},\n",
       " 'Ridge Regression': {'train_rmse': 349556.11107733456,\n",
       "  'test_rmse': 346927.04580896057,\n",
       "  'train_r2': 0.6309269277380147,\n",
       "  'test_r2': 0.7007632272366477,\n",
       "  '': '------------------------'},\n",
       " 'XGBoost': {'train_rmse': 84194.68202199152,\n",
       "  'test_rmse': 226892.886498548,\n",
       "  'train_r2': 0.9785884610072403,\n",
       "  'test_r2': 0.8720087128221555,\n",
       "  '': '------------------------'},\n",
       " 'Random forest': {'train_rmse': 139386.93518332244,\n",
       "  'test_rmse': 226760.0328232905,\n",
       "  'train_r2': 0.9413155957678759,\n",
       "  'test_r2': 0.8721585556393116,\n",
       "  '': '------------------------'}}"
      ]
     },
     "execution_count": 1676,
     "metadata": {},
     "output_type": "execute_result"
    }
   ],
   "source": [
    "model_train_and_evaluate(models, X_train_selected, y_train, X_test_selected, y_test)"
   ]
  },
  {
   "cell_type": "markdown",
   "id": "b45c3b47-8063-47a5-a263-9a649bf32f5f",
   "metadata": {},
   "source": [
    "# Error Analysis"
   ]
  },
  {
   "cell_type": "code",
   "execution_count": 1677,
   "id": "aba47b4f-ff88-4fe5-990d-4220a616d5bd",
   "metadata": {},
   "outputs": [],
   "source": [
    "ea_df = pd.DataFrame()\n",
    "ea_df['y_actual'] = y_test\n",
    "ea_df['y_pred'] = y_test_pred_best1\n",
    "ea_df['diff'] = (ea_df['y_actual'] - ea_df['y_pred']) \n",
    "ea_df['diff_perc'] = abs(((ea_df['y_actual'] - ea_df['y_pred'])/ ea_df['y_actual']) * 100)\n",
    "# ea_df['mape'] = mean_absolute_percentage_error(y_test, y_test_pred_best)"
   ]
  },
  {
   "cell_type": "code",
   "execution_count": 1695,
   "id": "2bc7fda4-bd45-4881-955b-7aec09f1955e",
   "metadata": {},
   "outputs": [],
   "source": [
    "error_threshold = 20"
   ]
  },
  {
   "cell_type": "code",
   "execution_count": 1696,
   "id": "5198da13-11de-44b6-8c00-ce5175b479ce",
   "metadata": {},
   "outputs": [
    {
     "data": {
      "text/html": [
       "<div>\n",
       "<style scoped>\n",
       "    .dataframe tbody tr th:only-of-type {\n",
       "        vertical-align: middle;\n",
       "    }\n",
       "\n",
       "    .dataframe tbody tr th {\n",
       "        vertical-align: top;\n",
       "    }\n",
       "\n",
       "    .dataframe thead th {\n",
       "        text-align: right;\n",
       "    }\n",
       "</style>\n",
       "<table border=\"1\" class=\"dataframe\">\n",
       "  <thead>\n",
       "    <tr style=\"text-align: right;\">\n",
       "      <th></th>\n",
       "      <th>y_actual</th>\n",
       "      <th>y_pred</th>\n",
       "      <th>diff</th>\n",
       "      <th>diff_perc</th>\n",
       "    </tr>\n",
       "  </thead>\n",
       "  <tbody>\n",
       "    <tr>\n",
       "      <th>3286</th>\n",
       "      <td>900000</td>\n",
       "      <td>5.928452e+05</td>\n",
       "      <td>307154.834194</td>\n",
       "      <td>34.128315</td>\n",
       "    </tr>\n",
       "    <tr>\n",
       "      <th>3730</th>\n",
       "      <td>550000</td>\n",
       "      <td>9.184219e+05</td>\n",
       "      <td>-368421.915943</td>\n",
       "      <td>66.985803</td>\n",
       "    </tr>\n",
       "    <tr>\n",
       "      <th>3642</th>\n",
       "      <td>600000</td>\n",
       "      <td>4.774825e+05</td>\n",
       "      <td>122517.465409</td>\n",
       "      <td>20.419578</td>\n",
       "    </tr>\n",
       "    <tr>\n",
       "      <th>3952</th>\n",
       "      <td>300000</td>\n",
       "      <td>4.795321e+05</td>\n",
       "      <td>-179532.116345</td>\n",
       "      <td>59.844039</td>\n",
       "    </tr>\n",
       "    <tr>\n",
       "      <th>3989</th>\n",
       "      <td>475000</td>\n",
       "      <td>3.290563e+05</td>\n",
       "      <td>145943.725108</td>\n",
       "      <td>30.724995</td>\n",
       "    </tr>\n",
       "    <tr>\n",
       "      <th>...</th>\n",
       "      <td>...</td>\n",
       "      <td>...</td>\n",
       "      <td>...</td>\n",
       "      <td>...</td>\n",
       "    </tr>\n",
       "    <tr>\n",
       "      <th>2157</th>\n",
       "      <td>950000</td>\n",
       "      <td>6.590935e+05</td>\n",
       "      <td>290906.487052</td>\n",
       "      <td>30.621735</td>\n",
       "    </tr>\n",
       "    <tr>\n",
       "      <th>3525</th>\n",
       "      <td>850000</td>\n",
       "      <td>6.793795e+05</td>\n",
       "      <td>170620.488256</td>\n",
       "      <td>20.072999</td>\n",
       "    </tr>\n",
       "    <tr>\n",
       "      <th>2206</th>\n",
       "      <td>300000</td>\n",
       "      <td>1.956775e+05</td>\n",
       "      <td>104322.530905</td>\n",
       "      <td>34.774177</td>\n",
       "    </tr>\n",
       "    <tr>\n",
       "      <th>3368</th>\n",
       "      <td>85000</td>\n",
       "      <td>1.310789e+05</td>\n",
       "      <td>-46078.859558</td>\n",
       "      <td>54.210423</td>\n",
       "    </tr>\n",
       "    <tr>\n",
       "      <th>94</th>\n",
       "      <td>1470000</td>\n",
       "      <td>2.231497e+06</td>\n",
       "      <td>-761496.973737</td>\n",
       "      <td>51.802515</td>\n",
       "    </tr>\n",
       "  </tbody>\n",
       "</table>\n",
       "<p>390 rows × 4 columns</p>\n",
       "</div>"
      ],
      "text/plain": [
       "      y_actual        y_pred           diff  diff_perc\n",
       "3286    900000  5.928452e+05  307154.834194  34.128315\n",
       "3730    550000  9.184219e+05 -368421.915943  66.985803\n",
       "3642    600000  4.774825e+05  122517.465409  20.419578\n",
       "3952    300000  4.795321e+05 -179532.116345  59.844039\n",
       "3989    475000  3.290563e+05  145943.725108  30.724995\n",
       "...        ...           ...            ...        ...\n",
       "2157    950000  6.590935e+05  290906.487052  30.621735\n",
       "3525    850000  6.793795e+05  170620.488256  20.072999\n",
       "2206    300000  1.956775e+05  104322.530905  34.774177\n",
       "3368     85000  1.310789e+05  -46078.859558  54.210423\n",
       "94     1470000  2.231497e+06 -761496.973737  51.802515\n",
       "\n",
       "[390 rows x 4 columns]"
      ]
     },
     "execution_count": 1696,
     "metadata": {},
     "output_type": "execute_result"
    }
   ],
   "source": [
    "ea_df1 = ea_df[ea_df['diff_perc'] >= error_threshold]\n",
    "ea_df1"
   ]
  },
  {
   "cell_type": "code",
   "execution_count": 1697,
   "id": "71ec4685-b066-4386-adb8-8405e1038792",
   "metadata": {},
   "outputs": [
    {
     "data": {
      "text/plain": [
       "0.47911547911547914"
      ]
     },
     "execution_count": 1697,
     "metadata": {},
     "output_type": "execute_result"
    }
   ],
   "source": [
    "ea_df[ea_df['diff_perc'] > error_threshold].shape[0] / ea_df['y_actual'].shape[0]"
   ]
  },
  {
   "cell_type": "code",
   "execution_count": 1698,
   "id": "af474223-0829-48af-a811-6ae3b8ce9df6",
   "metadata": {},
   "outputs": [
    {
     "data": {
      "text/plain": [
       "Index([3286, 3730, 3642, 3952, 3989, 4294, 2030, 2829,  865, 4328,\n",
       "       ...\n",
       "       2921, 2544, 1874, 2780,  238, 2157, 3525, 2206, 3368,   94],\n",
       "      dtype='int64', length=390)"
      ]
     },
     "execution_count": 1698,
     "metadata": {},
     "output_type": "execute_result"
    }
   ],
   "source": [
    "ea_df1.index"
   ]
  },
  {
   "cell_type": "code",
   "execution_count": 1699,
   "id": "a051248f-9568-4416-8dd0-7979684652f8",
   "metadata": {},
   "outputs": [
    {
     "data": {
      "text/plain": [
       "Index([3286, 3730, 3642, 3952, 3989, 4294, 2030, 2829,  865, 4328,\n",
       "       ...\n",
       "       2921, 2544, 1874, 2780,  238, 2157, 3525, 2206, 3368,   94],\n",
       "      dtype='int64', length=390)"
      ]
     },
     "execution_count": 1699,
     "metadata": {},
     "output_type": "execute_result"
    }
   ],
   "source": [
    "ea_common_index = ea_df1.index.intersection(X_test.index)\n",
    "ea_common_index"
   ]
  },
  {
   "cell_type": "markdown",
   "id": "b74316f7-8109-4c24-bb40-8d0c936f174f",
   "metadata": {},
   "source": [
    "observations:\n",
    "- assuming error percent not exceeding 20%\n",
    "- 48% of test values are exceeding the error thershold.\n",
    "- decision tree & random forest regressor have best results\n",
    "- we considered decision tree as our best model"
   ]
  },
  {
   "cell_type": "markdown",
   "id": "370026ec-cb18-4788-9a30-cf812c84c26c",
   "metadata": {},
   "source": [
    "# Export Model"
   ]
  },
  {
   "cell_type": "code",
   "execution_count": 1700,
   "id": "b9c6ab1e-9370-4e67-a4ba-67bf2acfda6e",
   "metadata": {},
   "outputs": [
    {
     "data": {
      "text/plain": [
       "['C:\\\\Users\\\\aravit01\\\\OneDrive - Kearney\\\\1. RAVI TEJA\\\\12. My Learnings\\\\Portfolio Projects to Showcase\\\\Car Price Prediction - Regression\\\\model.joblib']"
      ]
     },
     "execution_count": 1700,
     "metadata": {},
     "output_type": "execute_result"
    }
   ],
   "source": [
    "joblib.dump(model_rf, r\"C:\\Users\\aravit01\\OneDrive - Kearney\\1. RAVI TEJA\\12. My Learnings\\Portfolio Projects to Showcase\\Car Price Prediction - Regression\\model.joblib\")"
   ]
  },
  {
   "cell_type": "code",
   "execution_count": 1701,
   "id": "df29bcb8-10cc-4d0d-b8f6-001bc6490eea",
   "metadata": {},
   "outputs": [
    {
     "data": {
      "text/plain": [
       "['C:\\\\Users\\\\aravit01\\\\OneDrive - Kearney\\\\1. RAVI TEJA\\\\12. My Learnings\\\\Portfolio Projects to Showcase\\\\Car Price Prediction - Regression\\\\scaler.joblib']"
      ]
     },
     "execution_count": 1701,
     "metadata": {},
     "output_type": "execute_result"
    }
   ],
   "source": [
    "scaling_data = {\n",
    "    'scaler': scaler,\n",
    "    'cols_to_scale': cols_to_scale\n",
    "}\n",
    "joblib.dump(scaling_data, r\"C:\\Users\\aravit01\\OneDrive - Kearney\\1. RAVI TEJA\\12. My Learnings\\Portfolio Projects to Showcase\\Car Price Prediction - Regression\\scaler.joblib\")"
   ]
  },
  {
   "cell_type": "code",
   "execution_count": 1702,
   "id": "ca9f0c5f-452e-4651-82a2-f696176b68c0",
   "metadata": {},
   "outputs": [
    {
     "data": {
      "text/plain": [
       "['C:\\\\Users\\\\aravit01\\\\OneDrive - Kearney\\\\1. RAVI TEJA\\\\12. My Learnings\\\\Portfolio Projects to Showcase\\\\Car Price Prediction - Regression\\\\te.joblib']"
      ]
     },
     "execution_count": 1702,
     "metadata": {},
     "output_type": "execute_result"
    }
   ],
   "source": [
    "target_encoding = {\n",
    "    'encoder': encoder,\n",
    "    'cols_to_te': cols_target_encode\n",
    "}\n",
    "joblib.dump(target_encoding, r\"C:\\Users\\aravit01\\OneDrive - Kearney\\1. RAVI TEJA\\12. My Learnings\\Portfolio Projects to Showcase\\Car Price Prediction - Regression\\te.joblib\")"
   ]
  },
  {
   "cell_type": "code",
   "execution_count": null,
   "id": "4f665d0e-74dd-494c-b27c-69298f225cf7",
   "metadata": {},
   "outputs": [],
   "source": []
  }
 ],
 "metadata": {
  "kernelspec": {
   "display_name": "Python 3 (ipykernel)",
   "language": "python",
   "name": "python3"
  },
  "language_info": {
   "codemirror_mode": {
    "name": "ipython",
    "version": 3
   },
   "file_extension": ".py",
   "mimetype": "text/x-python",
   "name": "python",
   "nbconvert_exporter": "python",
   "pygments_lexer": "ipython3",
   "version": "3.11.7"
  }
 },
 "nbformat": 4,
 "nbformat_minor": 5
}
